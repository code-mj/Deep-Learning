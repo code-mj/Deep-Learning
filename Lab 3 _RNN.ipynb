{
 "cells": [
  {
   "cell_type": "code",
   "execution_count": 47,
   "metadata": {},
   "outputs": [
    {
     "name": "stderr",
     "output_type": "stream",
     "text": [
      "C:\\Users\\mansi\\AppData\\Local\\Temp\\ipykernel_8232\\1693873343.py:10: DeprecationWarning: `magic(...)` is deprecated since IPython 0.13 (warning added in 8.1), use run_line_magic(magic_name, parameter_s).\n",
      "  get_ipython().magic(u'matplotlib inline')\n"
     ]
    }
   ],
   "source": [
    "from numpy import array\n",
    "from keras.models import Sequential\n",
    "from keras.layers import LSTM, GRU, Dropout\n",
    "from keras.layers import Dense, Embedding\n",
    "from tensorflow.keras.callbacks import ModelCheckpoint\n",
    "from tensorflow.keras.utils import to_categorical\n",
    "import tensorflow as tf\n",
    "\n",
    "import matplotlib as plt\n",
    "get_ipython().magic(u'matplotlib inline')\n",
    "\n",
    "import datetime as dt, itertools, pandas as pd, matplotlib.pyplot as plt, numpy as np\n"
   ]
  },
  {
   "cell_type": "code",
   "execution_count": null,
   "metadata": {},
   "outputs": [],
   "source": []
  },
  {
   "cell_type": "code",
   "execution_count": 2,
   "metadata": {},
   "outputs": [],
   "source": [
    "def split_sequence(sequence, n_steps=7, lookahead=0):\n",
    "    X, y = list(), list()\n",
    "    for i in range(lookahead,len(sequence)):\n",
    "        # find the end of this pattern\n",
    "        end_ix = i + n_steps\n",
    "        # check if we are beyond the sequence\n",
    "        if end_ix >= len(sequence):\n",
    "            break\n",
    "        # gather input and output parts of the pattern\n",
    "        seq_x, seq_y = sequence[i-lookahead:end_ix-lookahead], sequence[end_ix]\n",
    "        X.append(seq_x)\n",
    "        y.append(seq_y)\n",
    "    return array(X), array(y)"
   ]
  },
  {
   "cell_type": "markdown",
   "metadata": {},
   "source": [
    "### Data preprocessing"
   ]
  },
  {
   "cell_type": "code",
   "execution_count": 3,
   "metadata": {},
   "outputs": [
    {
     "data": {
      "text/html": [
       "<div>\n",
       "<style scoped>\n",
       "    .dataframe tbody tr th:only-of-type {\n",
       "        vertical-align: middle;\n",
       "    }\n",
       "\n",
       "    .dataframe tbody tr th {\n",
       "        vertical-align: top;\n",
       "    }\n",
       "\n",
       "    .dataframe thead th {\n",
       "        text-align: right;\n",
       "    }\n",
       "</style>\n",
       "<table border=\"1\" class=\"dataframe\">\n",
       "  <thead>\n",
       "    <tr style=\"text-align: right;\">\n",
       "      <th></th>\n",
       "      <th>Date</th>\n",
       "      <th>Price</th>\n",
       "    </tr>\n",
       "  </thead>\n",
       "  <tbody>\n",
       "    <tr>\n",
       "      <th>0</th>\n",
       "      <td>1/1/2006</td>\n",
       "      <td>569.865168</td>\n",
       "    </tr>\n",
       "    <tr>\n",
       "      <th>1</th>\n",
       "      <td>1/2/2006</td>\n",
       "      <td>593.271930</td>\n",
       "    </tr>\n",
       "    <tr>\n",
       "      <th>2</th>\n",
       "      <td>1/3/2006</td>\n",
       "      <td>606.471193</td>\n",
       "    </tr>\n",
       "    <tr>\n",
       "      <th>3</th>\n",
       "      <td>1/4/2006</td>\n",
       "      <td>576.932773</td>\n",
       "    </tr>\n",
       "    <tr>\n",
       "      <th>4</th>\n",
       "      <td>1/5/2006</td>\n",
       "      <td>573.812500</td>\n",
       "    </tr>\n",
       "    <tr>\n",
       "      <th>...</th>\n",
       "      <td>...</td>\n",
       "      <td>...</td>\n",
       "    </tr>\n",
       "    <tr>\n",
       "      <th>3647</th>\n",
       "      <td>12/27/2015</td>\n",
       "      <td>832.554167</td>\n",
       "    </tr>\n",
       "    <tr>\n",
       "      <th>3648</th>\n",
       "      <td>12/28/2015</td>\n",
       "      <td>880.513919</td>\n",
       "    </tr>\n",
       "    <tr>\n",
       "      <th>3649</th>\n",
       "      <td>12/29/2015</td>\n",
       "      <td>856.883910</td>\n",
       "    </tr>\n",
       "    <tr>\n",
       "      <th>3650</th>\n",
       "      <td>12/30/2015</td>\n",
       "      <td>888.002212</td>\n",
       "    </tr>\n",
       "    <tr>\n",
       "      <th>3651</th>\n",
       "      <td>12/31/2015</td>\n",
       "      <td>918.498795</td>\n",
       "    </tr>\n",
       "  </tbody>\n",
       "</table>\n",
       "<p>3652 rows × 2 columns</p>\n",
       "</div>"
      ],
      "text/plain": [
       "            Date       Price\n",
       "0       1/1/2006  569.865168\n",
       "1       1/2/2006  593.271930\n",
       "2       1/3/2006  606.471193\n",
       "3       1/4/2006  576.932773\n",
       "4       1/5/2006  573.812500\n",
       "...          ...         ...\n",
       "3647  12/27/2015  832.554167\n",
       "3648  12/28/2015  880.513919\n",
       "3649  12/29/2015  856.883910\n",
       "3650  12/30/2015  888.002212\n",
       "3651  12/31/2015  918.498795\n",
       "\n",
       "[3652 rows x 2 columns]"
      ]
     },
     "execution_count": 3,
     "metadata": {},
     "output_type": "execute_result"
    }
   ],
   "source": [
    "tsdataframe = pd.read_csv(r\"./timeseries_lab3.csv\")\n",
    "tsdataframe"
   ]
  },
  {
   "cell_type": "code",
   "execution_count": 4,
   "metadata": {},
   "outputs": [],
   "source": [
    "tsdata = np.load(r\"./timeseries_lab3.npy\")"
   ]
  },
  {
   "cell_type": "code",
   "execution_count": 5,
   "metadata": {},
   "outputs": [
    {
     "data": {
      "text/plain": [
       "array([569.86516854, 593.27192983, 606.47119342, ..., 856.88391039,\n",
       "       888.00221239, 918.49879518])"
      ]
     },
     "execution_count": 5,
     "metadata": {},
     "output_type": "execute_result"
    }
   ],
   "source": [
    "tsdata"
   ]
  },
  {
   "cell_type": "code",
   "execution_count": 6,
   "metadata": {},
   "outputs": [
    {
     "data": {
      "text/plain": [
       "[<matplotlib.lines.Line2D at 0x23cfbf917c0>]"
      ]
     },
     "execution_count": 6,
     "metadata": {},
     "output_type": "execute_result"
    },
    {
     "data": {
      "image/png": "[encoded data removed]",
      "text/plain": [
       "<Figure size 640x480 with 1 Axes>"
      ]
     },
     "metadata": {},
     "output_type": "display_data"
    }
   ],
   "source": [
    "plt.plot(tsdata)"
   ]
  },
  {
   "cell_type": "code",
   "execution_count": 7,
   "metadata": {},
   "outputs": [],
   "source": [
    "n_steps=7\n",
    "n_features = 1\n",
    "train_size = 2557"
   ]
  },
  {
   "cell_type": "code",
   "execution_count": 8,
   "metadata": {},
   "outputs": [],
   "source": [
    "X, y = split_sequence(tsdata,n_steps)"
   ]
  },
  {
   "cell_type": "code",
   "execution_count": 9,
   "metadata": {},
   "outputs": [
    {
     "data": {
      "text/plain": [
       "array([[569.86516854, 593.27192983, 606.47119342, ..., 573.8125    ,\n",
       "        576.17699115, 548.16748768],\n",
       "       [593.27192983, 606.47119342, 576.93277311, ..., 576.17699115,\n",
       "        548.16748768, 528.13043478],\n",
       "       [606.47119342, 576.93277311, 573.8125    , ..., 548.16748768,\n",
       "        528.13043478, 543.19517544],\n",
       "       ...,\n",
       "       [876.92110454, 923.34583333, 807.89142857, ..., 865.42385787,\n",
       "        832.55416667, 880.51391863],\n",
       "       [923.34583333, 807.89142857, 753.03703704, ..., 832.55416667,\n",
       "        880.51391863, 856.88391039],\n",
       "       [807.89142857, 753.03703704, 865.42385787, ..., 880.51391863,\n",
       "        856.88391039, 888.00221239]])"
      ]
     },
     "execution_count": 9,
     "metadata": {},
     "output_type": "execute_result"
    }
   ],
   "source": [
    "X"
   ]
  },
  {
   "cell_type": "code",
   "execution_count": 10,
   "metadata": {},
   "outputs": [],
   "source": [
    "#tsdata[:15]"
   ]
  },
  {
   "cell_type": "code",
   "execution_count": 11,
   "metadata": {},
   "outputs": [],
   "source": [
    "#X[:10]"
   ]
  },
  {
   "cell_type": "code",
   "execution_count": 12,
   "metadata": {},
   "outputs": [],
   "source": [
    "#y[:4]"
   ]
  },
  {
   "cell_type": "code",
   "execution_count": 13,
   "metadata": {},
   "outputs": [],
   "source": [
    "X = X.reshape((X.shape[0], X.shape[1], n_features))\n",
    "trainX = X[:train_size]\n",
    "trainy = y[:train_size]\n",
    "testX = X[train_size:]\n",
    "testy = y[train_size:]"
   ]
  },
  {
   "cell_type": "code",
   "execution_count": 14,
   "metadata": {},
   "outputs": [],
   "source": [
    "#trainX"
   ]
  },
  {
   "cell_type": "markdown",
   "metadata": {},
   "source": [
    "### LSTM model for time series prediction"
   ]
  },
  {
   "cell_type": "code",
   "execution_count": 15,
   "metadata": {},
   "outputs": [],
   "source": [
    "model = Sequential()\n",
    "model.add(LSTM(50, activation='relu', input_shape=(n_steps, n_features)))\n",
    "model.add(Dense(1))\n",
    "model.compile(optimizer='adam', loss='mse')"
   ]
  },
  {
   "cell_type": "code",
   "execution_count": 16,
   "metadata": {},
   "outputs": [
    {
     "name": "stdout",
     "output_type": "stream",
     "text": [
      "Epoch 1/20\n",
      "80/80 [==============================] - 1s 2ms/step - loss: 122333.1875\n",
      "Epoch 2/20\n",
      "80/80 [==============================] - 0s 2ms/step - loss: 695.1301\n",
      "Epoch 3/20\n",
      "80/80 [==============================] - 0s 2ms/step - loss: 644.9467\n",
      "Epoch 4/20\n",
      "80/80 [==============================] - 0s 2ms/step - loss: 646.2017\n",
      "Epoch 5/20\n",
      "80/80 [==============================] - 0s 2ms/step - loss: 659.4984\n",
      "Epoch 6/20\n",
      "80/80 [==============================] - 0s 2ms/step - loss: 758.4860\n",
      "Epoch 7/20\n",
      "80/80 [==============================] - 0s 2ms/step - loss: 687.5530\n",
      "Epoch 8/20\n",
      "80/80 [==============================] - 0s 2ms/step - loss: 673.8653\n",
      "Epoch 9/20\n",
      "80/80 [==============================] - 0s 2ms/step - loss: 675.1886\n",
      "Epoch 10/20\n",
      "80/80 [==============================] - 0s 2ms/step - loss: 680.3203\n",
      "Epoch 11/20\n",
      "80/80 [==============================] - 0s 2ms/step - loss: 705.3218\n",
      "Epoch 12/20\n",
      "80/80 [==============================] - 0s 2ms/step - loss: 701.6390\n",
      "Epoch 13/20\n",
      "80/80 [==============================] - 0s 2ms/step - loss: 698.2938\n",
      "Epoch 14/20\n",
      "80/80 [==============================] - 0s 3ms/step - loss: 701.7402\n",
      "Epoch 15/20\n",
      "80/80 [==============================] - 0s 2ms/step - loss: 702.9272\n",
      "Epoch 16/20\n",
      "80/80 [==============================] - 0s 3ms/step - loss: 700.0864\n",
      "Epoch 17/20\n",
      "80/80 [==============================] - 0s 2ms/step - loss: 690.0782\n",
      "Epoch 18/20\n",
      "80/80 [==============================] - 0s 2ms/step - loss: 687.3024\n",
      "Epoch 19/20\n",
      "80/80 [==============================] - 0s 2ms/step - loss: 670.6777\n",
      "Epoch 20/20\n",
      "80/80 [==============================] - 0s 3ms/step - loss: 634.3806\n"
     ]
    },
    {
     "data": {
      "text/plain": [
       "<keras.src.callbacks.History at 0x23cfe282eb0>"
      ]
     },
     "execution_count": 16,
     "metadata": {},
     "output_type": "execute_result"
    }
   ],
   "source": [
    "model.fit(trainX, trainy, epochs=20, verbose=1)"
   ]
  },
  {
   "cell_type": "markdown",
   "metadata": {},
   "source": [
    "### Prediction (test set)"
   ]
  },
  {
   "cell_type": "code",
   "execution_count": 17,
   "metadata": {},
   "outputs": [],
   "source": [
    "yhat = model.predict(testX, verbose=0)"
   ]
  },
  {
   "cell_type": "code",
   "execution_count": 18,
   "metadata": {},
   "outputs": [],
   "source": [
    "pred = []\n",
    "for i in range(yhat.shape[0]):\n",
    "    pred.append(yhat[i])\n",
    "pred = np.array(pred)"
   ]
  },
  {
   "cell_type": "code",
   "execution_count": 19,
   "metadata": {},
   "outputs": [
    {
     "data": {
      "text/plain": [
       "Text(0.5, 0, 'Days')"
      ]
     },
     "execution_count": 19,
     "metadata": {},
     "output_type": "execute_result"
    },
    {
     "data": {
      "image/png": "[encoded data removed]",
      "text/plain": [
       "<Figure size 640x480 with 1 Axes>"
      ]
     },
     "metadata": {},
     "output_type": "display_data"
    }
   ],
   "source": [
    "plt.plot(range(len(tsdata)),tsdata,label='True')\n",
    "plt.plot(range(len(tsdata)-len(testy),len(tsdata)),pred,label='Predicted')\n",
    "plt.legend(loc='upper left')\n",
    "plt.xlabel('Days')\n",
    "\n"
   ]
  },
  {
   "cell_type": "markdown",
   "metadata": {},
   "source": [
    "## Lab 4: Language Model"
   ]
  },
  {
   "cell_type": "markdown",
   "metadata": {},
   "source": [
    "<b>Problem statement:</b> Use the following dataset containing element names to train a language model. Generate new names using the trained model. The generated names should resemble element names, e.g. ends with '-ium'"
   ]
  },
  {
   "cell_type": "markdown",
   "metadata": {},
   "source": [
    "### Data"
   ]
  },
  {
   "cell_type": "code",
   "execution_count": 20,
   "metadata": {},
   "outputs": [],
   "source": [
    "data = open(r\"./elements.txt\", 'r').read()\n",
    "data= data.lower()\n",
    "chars = list(set('\\n'.join(data)))\n",
    "data_size, vocab_size = len(data), len(chars)\n"
   ]
  },
  {
   "cell_type": "code",
   "execution_count": 21,
   "metadata": {},
   "outputs": [
    {
     "data": {
      "text/plain": [
       "'hydrogen\\nhelium\\nlithium\\nberyllium\\nboron\\ncarbon\\nnitrogen\\noxygen\\nfluorine\\nneon\\nsodium\\nmagnesium\\naluminium\\nsilicon\\nphosphorus\\nsulfur\\nchlorine\\nargon\\npotassium\\ncalcium\\nscandium\\ntitanium\\nvanadium\\nchromium\\nmanganese\\niron\\ncobalt\\nnickel\\ncopper\\nzinc\\ngallium\\ngermanium\\narsenic\\nselenium\\nbromine\\nkrypton\\nrubidium\\nstrontium\\nyttrium\\nzirconium\\nniobium\\nmolybdenum\\ntechnetium\\nruthenium\\nrhodium\\npalladium\\nsilver\\ncadmium\\nindium\\ntin\\nantimony\\ntellurium\\niodine\\nxenon\\ncesium\\nbarium\\nlanthanum\\ncerium\\npraseodymium\\nneodymium\\npromethium\\nsamarium\\neuropium\\ngadolinium\\nterbium\\ndysprosium\\nholmium\\nerbium\\nthulium\\nytterbium\\nlutetium\\nhafnium\\ntantalum\\ntungsten\\nrhenium\\nosmium\\niridium\\nplatinum\\ngold\\nmercury\\nthallium\\nlead\\nbismuth\\npolonium\\nastatine\\nradon\\nfrancium\\nradium\\nactinium\\nthorium\\nprotactinium\\nuranium\\nneptunium\\nplutonium\\namericium\\ncurium\\nberkelium\\ncalifornium\\neinsteinium\\nfermium\\nmendelevium\\nnobelium\\nlawrencium\\nrutherfordium\\ndubnium\\nseaborgium\\nbohrium\\nhassium\\nmeitnerium\\ndarmstadtium\\nroentgenium\\ncopernicium\\nnihonium\\nflerovium\\nmoscovium\\nlivermorium\\ntennessine\\noganesson'"
      ]
     },
     "execution_count": 21,
     "metadata": {},
     "output_type": "execute_result"
    }
   ],
   "source": [
    "data"
   ]
  },
  {
   "cell_type": "markdown",
   "metadata": {},
   "source": [
    "### Model Architecture"
   ]
  },
  {
   "cell_type": "markdown",
   "metadata": {},
   "source": [
    "<img src=\"rnn_langmod.png\" style=\"width:500;height:300px;\">"
   ]
  },
  {
   "cell_type": "code",
   "execution_count": 68,
   "metadata": {},
   "outputs": [],
   "source": [
    "# Convert characters to integers\n",
    "char_to_int = {c: i for i, c in enumerate(chars)}\n",
    "int_to_char = {i: c for i, c in enumerate(chars)}\n",
    "data = [char_to_int[c] for c in ''.join(data)]\n",
    "\n",
    "seq_length = 40\n",
    "sequences = []\n",
    "for i in range(len(data) - seq_length):\n",
    "    sequences.append(data[i:i + seq_length])\n",
    "\n",
    "X = np.array(sequences)\n",
    "y = tf.keras.utils.to_categorical(X[:, -1], num_classes=len(chars))\n",
    "X = X[:, :-1]"
   ]
  },
  {
   "cell_type": "code",
   "execution_count": 69,
   "metadata": {},
   "outputs": [],
   "source": [
    "# Model\n",
    "model = tf.keras.Sequential([\n",
    "    tf.keras.layers.Embedding(input_dim=len(chars), output_dim=128, input_length=seq_length - 1),\n",
    "    tf.keras.layers.LSTM(128, return_sequences=True),\n",
    "    tf.keras.layers.Dropout(0.30),\n",
    "    tf.keras.layers.LSTM(128),\n",
    "    tf.keras.layers.Dropout(0.45),\n",
    "    tf.keras.layers.Dense(128, activation='relu'),\n",
    "    tf.keras.layers.Dense(len(chars), activation='softmax')\n",
    "])\n",
    "\n",
    "model.compile(loss='categorical_crossentropy', optimizer='adam')"
   ]
  },
  {
   "cell_type": "code",
   "execution_count": 79,
   "metadata": {},
   "outputs": [
    {
     "name": "stdout",
     "output_type": "stream",
     "text": [
      "Epoch 1/150\n"
     ]
    },
    {
     "name": "stdout",
     "output_type": "stream",
     "text": [
      "32/32 [==============================] - 3s 78ms/step - loss: 0.1536\n",
      "Epoch 2/150\n",
      "32/32 [==============================] - 2s 74ms/step - loss: 0.1003\n",
      "Epoch 3/150\n",
      "32/32 [==============================] - 3s 83ms/step - loss: 0.1198\n",
      "Epoch 4/150\n",
      "32/32 [==============================] - 2s 75ms/step - loss: 0.1253\n",
      "Epoch 5/150\n",
      "32/32 [==============================] - 2s 76ms/step - loss: 0.1174\n",
      "Epoch 6/150\n",
      "32/32 [==============================] - 3s 80ms/step - loss: 0.1231\n",
      "Epoch 7/150\n",
      "32/32 [==============================] - 2s 78ms/step - loss: 0.1245\n",
      "Epoch 8/150\n",
      "32/32 [==============================] - 3s 79ms/step - loss: 0.1508\n",
      "Epoch 9/150\n",
      "32/32 [==============================] - 2s 76ms/step - loss: 0.1299\n",
      "Epoch 10/150\n",
      "32/32 [==============================] - 2s 76ms/step - loss: 0.1281\n",
      "Epoch 11/150\n",
      "32/32 [==============================] - 3s 82ms/step - loss: 0.1284\n",
      "Epoch 12/150\n",
      "32/32 [==============================] - 3s 79ms/step - loss: 0.1290\n",
      "Epoch 13/150\n",
      "32/32 [==============================] - 3s 79ms/step - loss: 0.1285\n",
      "Epoch 14/150\n",
      "32/32 [==============================] - 2s 76ms/step - loss: 0.1278\n",
      "Epoch 15/150\n",
      "32/32 [==============================] - 3s 79ms/step - loss: 0.1247\n",
      "Epoch 16/150\n",
      "32/32 [==============================] - 2s 78ms/step - loss: 0.0784\n",
      "Epoch 17/150\n",
      "32/32 [==============================] - 2s 76ms/step - loss: 0.0917\n",
      "Epoch 18/150\n",
      "32/32 [==============================] - 2s 77ms/step - loss: 0.1197\n",
      "Epoch 19/150\n",
      "32/32 [==============================] - 2s 77ms/step - loss: 0.1363\n",
      "Epoch 20/150\n",
      "32/32 [==============================] - 2s 76ms/step - loss: 0.1313\n",
      "Epoch 21/150\n",
      "32/32 [==============================] - 2s 77ms/step - loss: 0.1473\n",
      "Epoch 22/150\n",
      "32/32 [==============================] - 2s 75ms/step - loss: 0.0979\n",
      "Epoch 23/150\n",
      "32/32 [==============================] - 2s 75ms/step - loss: 0.0997\n",
      "Epoch 24/150\n",
      "32/32 [==============================] - 2s 77ms/step - loss: 0.0921\n",
      "Epoch 25/150\n",
      "32/32 [==============================] - 2s 77ms/step - loss: 0.1049\n",
      "Epoch 26/150\n",
      "32/32 [==============================] - 2s 77ms/step - loss: 0.0780\n",
      "Epoch 27/150\n",
      "32/32 [==============================] - 2s 77ms/step - loss: 0.0971\n",
      "Epoch 28/150\n",
      "32/32 [==============================] - 2s 76ms/step - loss: 0.0879\n",
      "Epoch 29/150\n",
      "32/32 [==============================] - 2s 77ms/step - loss: 0.0702\n",
      "Epoch 30/150\n",
      "32/32 [==============================] - 2s 76ms/step - loss: 0.0922\n",
      "Epoch 31/150\n",
      "32/32 [==============================] - 3s 78ms/step - loss: 0.0942\n",
      "Epoch 32/150\n",
      "32/32 [==============================] - 3s 84ms/step - loss: 0.0905\n",
      "Epoch 33/150\n",
      "32/32 [==============================] - 2s 77ms/step - loss: 0.0739\n",
      "Epoch 34/150\n",
      "32/32 [==============================] - 3s 78ms/step - loss: 0.0813\n",
      "Epoch 35/150\n",
      "32/32 [==============================] - 2s 76ms/step - loss: 0.0900\n",
      "Epoch 36/150\n",
      "32/32 [==============================] - 3s 80ms/step - loss: 0.1002\n",
      "Epoch 37/150\n",
      "32/32 [==============================] - 3s 81ms/step - loss: 0.0829\n",
      "Epoch 38/150\n",
      "32/32 [==============================] - 3s 82ms/step - loss: 0.0567\n",
      "Epoch 39/150\n",
      "32/32 [==============================] - 3s 80ms/step - loss: 0.0893\n",
      "Epoch 40/150\n",
      "32/32 [==============================] - 2s 76ms/step - loss: 0.0608\n",
      "Epoch 41/150\n",
      "32/32 [==============================] - 3s 79ms/step - loss: 0.0694\n",
      "Epoch 42/150\n",
      "32/32 [==============================] - 3s 81ms/step - loss: 0.0614\n",
      "Epoch 43/150\n",
      "32/32 [==============================] - 2s 77ms/step - loss: 0.0624\n",
      "Epoch 44/150\n",
      "32/32 [==============================] - 2s 76ms/step - loss: 0.0854\n",
      "Epoch 45/150\n",
      "32/32 [==============================] - 2s 77ms/step - loss: 0.0671\n",
      "Epoch 46/150\n",
      "32/32 [==============================] - 3s 79ms/step - loss: 0.0594\n",
      "Epoch 47/150\n",
      "32/32 [==============================] - 3s 78ms/step - loss: 0.0627\n",
      "Epoch 48/150\n",
      "32/32 [==============================] - 3s 82ms/step - loss: 0.0508\n",
      "Epoch 49/150\n",
      "32/32 [==============================] - 2s 77ms/step - loss: 0.0571\n",
      "Epoch 50/150\n",
      "32/32 [==============================] - 2s 75ms/step - loss: 0.0725\n",
      "Epoch 51/150\n",
      "32/32 [==============================] - 3s 79ms/step - loss: 0.0794\n",
      "Epoch 52/150\n",
      "32/32 [==============================] - 2s 78ms/step - loss: 0.0810\n",
      "Epoch 53/150\n",
      "32/32 [==============================] - 3s 81ms/step - loss: 0.0768\n",
      "Epoch 54/150\n",
      "32/32 [==============================] - 3s 79ms/step - loss: 0.0812\n",
      "Epoch 55/150\n",
      "32/32 [==============================] - 2s 76ms/step - loss: 0.0574\n",
      "Epoch 56/150\n",
      "32/32 [==============================] - 2s 77ms/step - loss: 0.0556\n",
      "Epoch 57/150\n",
      "32/32 [==============================] - 2s 77ms/step - loss: 0.0496\n",
      "Epoch 58/150\n",
      "32/32 [==============================] - 2s 77ms/step - loss: 0.0807\n",
      "Epoch 59/150\n",
      "32/32 [==============================] - 2s 75ms/step - loss: 0.0710\n",
      "Epoch 60/150\n",
      "32/32 [==============================] - 2s 77ms/step - loss: 0.0625\n",
      "Epoch 61/150\n",
      "32/32 [==============================] - 2s 76ms/step - loss: 0.0971\n",
      "Epoch 62/150\n",
      "32/32 [==============================] - 3s 79ms/step - loss: 0.0735\n",
      "Epoch 63/150\n",
      "32/32 [==============================] - 3s 81ms/step - loss: 0.0556\n",
      "Epoch 64/150\n",
      "32/32 [==============================] - 2s 78ms/step - loss: 0.0514\n",
      "Epoch 65/150\n",
      "32/32 [==============================] - 3s 80ms/step - loss: 0.0706\n",
      "Epoch 66/150\n",
      "32/32 [==============================] - 3s 79ms/step - loss: 0.0754\n",
      "Epoch 67/150\n",
      "32/32 [==============================] - 2s 77ms/step - loss: 0.0598\n",
      "Epoch 68/150\n",
      "32/32 [==============================] - 3s 81ms/step - loss: 0.0493\n",
      "Epoch 69/150\n",
      "32/32 [==============================] - 3s 79ms/step - loss: 0.0501\n",
      "Epoch 70/150\n",
      "32/32 [==============================] - 3s 80ms/step - loss: 0.0495\n",
      "Epoch 71/150\n",
      "32/32 [==============================] - 3s 79ms/step - loss: 0.0484\n",
      "Epoch 72/150\n",
      "32/32 [==============================] - 3s 78ms/step - loss: 0.0365\n",
      "Epoch 73/150\n",
      "32/32 [==============================] - 3s 80ms/step - loss: 0.0513\n",
      "Epoch 74/150\n",
      "32/32 [==============================] - 3s 80ms/step - loss: 0.0510\n",
      "Epoch 75/150\n",
      "32/32 [==============================] - 3s 80ms/step - loss: 0.0574\n",
      "Epoch 76/150\n",
      "32/32 [==============================] - 3s 79ms/step - loss: 0.0722\n",
      "Epoch 77/150\n",
      "32/32 [==============================] - 3s 80ms/step - loss: 0.0635\n",
      "Epoch 78/150\n",
      "32/32 [==============================] - 3s 79ms/step - loss: 0.0663\n",
      "Epoch 79/150\n",
      "32/32 [==============================] - 2s 78ms/step - loss: 0.0611\n",
      "Epoch 80/150\n",
      "32/32 [==============================] - 3s 80ms/step - loss: 0.0803\n",
      "Epoch 81/150\n",
      "32/32 [==============================] - 3s 80ms/step - loss: 0.0415\n",
      "Epoch 82/150\n",
      "32/32 [==============================] - 3s 79ms/step - loss: 0.0372\n",
      "Epoch 83/150\n",
      "32/32 [==============================] - 3s 79ms/step - loss: 0.0539\n",
      "Epoch 84/150\n",
      "32/32 [==============================] - 3s 80ms/step - loss: 0.0394\n",
      "Epoch 85/150\n",
      "32/32 [==============================] - 3s 84ms/step - loss: 0.0490\n",
      "Epoch 86/150\n",
      "32/32 [==============================] - 3s 80ms/step - loss: 0.0704\n",
      "Epoch 87/150\n",
      "32/32 [==============================] - 3s 81ms/step - loss: 0.0420\n",
      "Epoch 88/150\n",
      "32/32 [==============================] - 3s 80ms/step - loss: 0.0535\n",
      "Epoch 89/150\n",
      "32/32 [==============================] - 3s 78ms/step - loss: 0.0478\n",
      "Epoch 90/150\n",
      "32/32 [==============================] - 3s 81ms/step - loss: 0.0365\n",
      "Epoch 91/150\n",
      "32/32 [==============================] - 3s 81ms/step - loss: 0.0478\n",
      "Epoch 92/150\n",
      "32/32 [==============================] - 3s 81ms/step - loss: 0.0641\n",
      "Epoch 93/150\n",
      "32/32 [==============================] - 3s 80ms/step - loss: 0.0550\n",
      "Epoch 94/150\n",
      "32/32 [==============================] - 3s 79ms/step - loss: 0.0593\n",
      "Epoch 95/150\n",
      "32/32 [==============================] - 3s 79ms/step - loss: 0.0669\n",
      "Epoch 96/150\n",
      "32/32 [==============================] - 3s 78ms/step - loss: 0.0425\n",
      "Epoch 97/150\n",
      "32/32 [==============================] - 3s 81ms/step - loss: 0.0490\n",
      "Epoch 98/150\n",
      "32/32 [==============================] - 3s 79ms/step - loss: 0.0473\n",
      "Epoch 99/150\n",
      "32/32 [==============================] - 3s 82ms/step - loss: 0.0518\n",
      "Epoch 100/150\n",
      "32/32 [==============================] - 3s 81ms/step - loss: 0.0406\n",
      "Epoch 101/150\n",
      "32/32 [==============================] - 3s 81ms/step - loss: 0.0404\n",
      "Epoch 102/150\n",
      "32/32 [==============================] - 2s 75ms/step - loss: 0.0450\n",
      "Epoch 103/150\n",
      "32/32 [==============================] - 2s 76ms/step - loss: 0.0472\n",
      "Epoch 104/150\n",
      "32/32 [==============================] - 3s 80ms/step - loss: 0.0538\n",
      "Epoch 105/150\n",
      "32/32 [==============================] - 3s 85ms/step - loss: 0.0544\n",
      "Epoch 106/150\n",
      "32/32 [==============================] - 3s 88ms/step - loss: 0.0379\n",
      "Epoch 107/150\n",
      "32/32 [==============================] - 3s 83ms/step - loss: 0.0443\n",
      "Epoch 108/150\n",
      "32/32 [==============================] - 3s 85ms/step - loss: 0.0434\n",
      "Epoch 109/150\n",
      "32/32 [==============================] - 3s 88ms/step - loss: 0.0518\n",
      "Epoch 110/150\n",
      "32/32 [==============================] - 3s 83ms/step - loss: 0.0345\n",
      "Epoch 111/150\n",
      "32/32 [==============================] - 3s 85ms/step - loss: 0.0468\n",
      "Epoch 112/150\n",
      "32/32 [==============================] - 3s 81ms/step - loss: 0.0719\n",
      "Epoch 113/150\n",
      "32/32 [==============================] - 2s 78ms/step - loss: 0.0848\n",
      "Epoch 114/150\n",
      "32/32 [==============================] - 3s 82ms/step - loss: 0.0587\n",
      "Epoch 115/150\n",
      "32/32 [==============================] - 3s 100ms/step - loss: 0.0481\n",
      "Epoch 116/150\n",
      "32/32 [==============================] - 3s 97ms/step - loss: 0.0334\n",
      "Epoch 117/150\n",
      "32/32 [==============================] - 3s 105ms/step - loss: 0.0347\n",
      "Epoch 118/150\n",
      "32/32 [==============================] - 3s 93ms/step - loss: 0.0421\n",
      "Epoch 119/150\n",
      "32/32 [==============================] - 3s 84ms/step - loss: 0.0355\n",
      "Epoch 120/150\n",
      "32/32 [==============================] - 3s 83ms/step - loss: 0.0570\n",
      "Epoch 121/150\n",
      "32/32 [==============================] - 3s 81ms/step - loss: 0.0587\n",
      "Epoch 122/150\n",
      "32/32 [==============================] - 3s 78ms/step - loss: 0.0481\n",
      "Epoch 123/150\n",
      "32/32 [==============================] - 3s 79ms/step - loss: 0.0316\n",
      "Epoch 124/150\n",
      "32/32 [==============================] - 3s 80ms/step - loss: 0.0475\n",
      "Epoch 125/150\n",
      "32/32 [==============================] - 3s 78ms/step - loss: 0.0386\n",
      "Epoch 126/150\n",
      "32/32 [==============================] - 3s 80ms/step - loss: 0.0387\n",
      "Epoch 127/150\n",
      "32/32 [==============================] - 3s 80ms/step - loss: 0.0387\n",
      "Epoch 128/150\n",
      "32/32 [==============================] - 3s 81ms/step - loss: 0.0286\n",
      "Epoch 129/150\n",
      "32/32 [==============================] - 2s 78ms/step - loss: 0.0301\n",
      "Epoch 130/150\n",
      "32/32 [==============================] - 3s 81ms/step - loss: 0.0370\n",
      "Epoch 131/150\n",
      "32/32 [==============================] - 3s 80ms/step - loss: 0.0408\n",
      "Epoch 132/150\n",
      "32/32 [==============================] - 3s 80ms/step - loss: 0.0694\n",
      "Epoch 133/150\n",
      "32/32 [==============================] - 3s 79ms/step - loss: 0.0531\n",
      "Epoch 134/150\n",
      "32/32 [==============================] - 3s 78ms/step - loss: 0.0404\n",
      "Epoch 135/150\n",
      "32/32 [==============================] - 3s 79ms/step - loss: 0.0330\n",
      "Epoch 136/150\n",
      "32/32 [==============================] - 2s 77ms/step - loss: 0.0339\n",
      "Epoch 137/150\n",
      "32/32 [==============================] - 3s 79ms/step - loss: 0.0459\n",
      "Epoch 138/150\n",
      "32/32 [==============================] - 3s 80ms/step - loss: 0.0643\n",
      "Epoch 139/150\n",
      "32/32 [==============================] - 3s 82ms/step - loss: 0.0539\n",
      "Epoch 140/150\n",
      "32/32 [==============================] - 3s 78ms/step - loss: 0.0631\n",
      "Epoch 141/150\n",
      "32/32 [==============================] - 3s 81ms/step - loss: 0.0345\n",
      "Epoch 142/150\n",
      "32/32 [==============================] - 2s 77ms/step - loss: 0.0379\n",
      "Epoch 143/150\n",
      "32/32 [==============================] - 3s 79ms/step - loss: 0.0394\n",
      "Epoch 144/150\n",
      "32/32 [==============================] - 3s 80ms/step - loss: 0.0512\n",
      "Epoch 145/150\n",
      "32/32 [==============================] - 3s 79ms/step - loss: 0.0377\n",
      "Epoch 146/150\n",
      "32/32 [==============================] - 3s 79ms/step - loss: 0.0479\n",
      "Epoch 147/150\n",
      "32/32 [==============================] - 2s 78ms/step - loss: 0.0484\n",
      "Epoch 148/150\n",
      "32/32 [==============================] - 3s 80ms/step - loss: 0.0511\n",
      "Epoch 149/150\n",
      "32/32 [==============================] - 3s 78ms/step - loss: 0.0433\n",
      "Epoch 150/150\n",
      "32/32 [==============================] - 3s 82ms/step - loss: 0.0446\n"
     ]
    },
    {
     "data": {
      "text/plain": [
       "<keras.src.callbacks.History at 0x23ea4e49610>"
      ]
     },
     "execution_count": 79,
     "metadata": {},
     "output_type": "execute_result"
    }
   ],
   "source": [
    "# Training\n",
    "model.fit(X, y, epochs=150, verbose=1)"
   ]
  },
  {
   "cell_type": "code",
   "execution_count": 120,
   "metadata": {},
   "outputs": [
    {
     "name": "stdout",
     "output_type": "stream",
     "text": [
      "1/1 [==============================] - 0s 26ms/step\n",
      "1/1 [==============================] - 0s 18ms/step\n",
      "1/1 [==============================] - 0s 18ms/step\n",
      "1/1 [==============================] - 0s 18ms/step\n",
      "1/1 [==============================] - 0s 18ms/step\n",
      "1/1 [==============================] - 0s 24ms/step\n",
      "1/1 [==============================] - 0s 17ms/step\n",
      "1/1 [==============================] - 0s 18ms/step\n",
      "1/1 [==============================] - 0s 18ms/step\n",
      "1/1 [==============================] - 0s 18ms/step\n",
      "1/1 [==============================] - 0s 20ms/step\n",
      "1/1 [==============================] - 0s 19ms/step\n",
      "1/1 [==============================] - 0s 18ms/step\n",
      "1/1 [==============================] - 0s 18ms/step\n",
      "1/1 [==============================] - 0s 19ms/step\n",
      "1/1 [==============================] - 0s 18ms/step\n",
      "1/1 [==============================] - 0s 17ms/step\n",
      "1/1 [==============================] - 0s 19ms/step\n",
      "1/1 [==============================] - 0s 18ms/step\n",
      "1/1 [==============================] - 0s 22ms/step\n",
      "1/1 [==============================] - 0s 18ms/step\n",
      "1/1 [==============================] - 0s 18ms/step\n",
      "1/1 [==============================] - 0s 18ms/step\n",
      "1/1 [==============================] - 0s 18ms/step\n",
      "1/1 [==============================] - 0s 18ms/step\n",
      "1/1 [==============================] - 0s 16ms/step\n",
      "1/1 [==============================] - 0s 17ms/step\n",
      "1/1 [==============================] - 0s 17ms/step\n",
      "1/1 [==============================] - 0s 17ms/step\n",
      "1/1 [==============================] - 0s 16ms/step\n",
      "1/1 [==============================] - 0s 17ms/step\n",
      "1/1 [==============================] - 0s 17ms/step\n",
      "1/1 [==============================] - 0s 18ms/step\n",
      "1/1 [==============================] - 0s 18ms/step\n",
      "1/1 [==============================] - 0s 16ms/step\n",
      "1/1 [==============================] - 0s 16ms/step\n",
      "1/1 [==============================] - 0s 17ms/step\n",
      "1/1 [==============================] - 0s 18ms/step\n",
      "1/1 [==============================] - 0s 16ms/step\n",
      "1/1 [==============================] - 0s 18ms/step\n",
      "1/1 [==============================] - 0s 17ms/step\n",
      "1/1 [==============================] - 0s 17ms/step\n",
      "1/1 [==============================] - 0s 24ms/step\n",
      "1/1 [==============================] - 0s 16ms/step\n",
      "1/1 [==============================] - 0s 17ms/step\n",
      "1/1 [==============================] - 0s 16ms/step\n",
      "1/1 [==============================] - 0s 16ms/step\n",
      "1/1 [==============================] - 0s 17ms/step\n",
      "1/1 [==============================] - 0s 17ms/step\n",
      "1/1 [==============================] - 0s 16ms/step\n",
      "1/1 [==============================] - 0s 18ms/step\n",
      "1/1 [==============================] - 0s 18ms/step\n",
      "1/1 [==============================] - 0s 17ms/step\n",
      "1/1 [==============================] - 0s 18ms/step\n",
      "1/1 [==============================] - 0s 16ms/step\n",
      "1/1 [==============================] - 0s 22ms/step\n",
      "1/1 [==============================] - 0s 16ms/step\n",
      "1/1 [==============================] - 0s 16ms/step\n",
      "1/1 [==============================] - 0s 17ms/step\n",
      "1/1 [==============================] - 0s 17ms/step\n",
      "1/1 [==============================] - 0s 16ms/step\n",
      "1/1 [==============================] - 0s 17ms/step\n",
      "1/1 [==============================] - 0s 17ms/step\n",
      "1/1 [==============================] - 0s 17ms/step\n",
      "1/1 [==============================] - 0s 17ms/step\n",
      "1/1 [==============================] - 0s 17ms/step\n",
      "1/1 [==============================] - 0s 15ms/step\n",
      "1/1 [==============================] - 0s 17ms/step\n",
      "1/1 [==============================] - 0s 24ms/step\n",
      "1/1 [==============================] - 0s 17ms/step\n",
      "1/1 [==============================] - 0s 17ms/step\n",
      "1/1 [==============================] - 0s 19ms/step\n",
      "1/1 [==============================] - 0s 17ms/step\n",
      "1/1 [==============================] - 0s 18ms/step\n",
      "1/1 [==============================] - 0s 16ms/step\n",
      "1/1 [==============================] - 0s 18ms/step\n",
      "1/1 [==============================] - 0s 16ms/step\n",
      "1/1 [==============================] - 0s 17ms/step\n",
      "1/1 [==============================] - 0s 17ms/step\n",
      "1/1 [==============================] - 0s 17ms/step\n",
      "1/1 [==============================] - 0s 17ms/step\n",
      "1/1 [==============================] - 0s 17ms/step\n",
      "1/1 [==============================] - 0s 16ms/step\n",
      "1/1 [==============================] - 0s 17ms/step\n",
      "1/1 [==============================] - 0s 17ms/step\n",
      "1/1 [==============================] - 0s 16ms/step\n",
      "1/1 [==============================] - 0s 17ms/step\n",
      "1/1 [==============================] - 0s 18ms/step\n",
      "1/1 [==============================] - 0s 16ms/step\n",
      "1/1 [==============================] - 0s 18ms/step\n",
      "1/1 [==============================] - 0s 18ms/step\n",
      "1/1 [==============================] - 0s 17ms/step\n"
     ]
    }
   ],
   "source": [
    "# Generating names\n",
    "generated_words = []\n",
    "while len(generated_words) < 10:\n",
    "    start = np.random.randint(0, len(data) - seq_length)\n",
    "    seq = data[start:start + seq_length - 1]\n",
    "    generated_text = ''.join([int_to_char[i] for i in seq])\n",
    "\n",
    "    for _ in range(20):\n",
    "        x = np.array([seq])\n",
    "        y_pred = model.predict(x)[0]\n",
    "        next_char = int_to_char[np.argmax(y_pred)]\n",
    "        generated_text += next_char\n",
    "        seq = seq[1:] + [char_to_int[next_char]]\n",
    "\n",
    "        if generated_text.endswith('ium'):\n",
    "            generated_words.append(generated_text)\n",
    "            break"
   ]
  },
  {
   "cell_type": "code",
   "execution_count": 125,
   "metadata": {},
   "outputs": [
    {
     "name": "stdout",
     "output_type": "stream",
     "text": [
      "Generated Element Names:\n",
      "rutherfordium\n",
      "dubnium\n",
      "seaborgium\n",
      "bohrium\n",
      "m\n",
      "thorium\n",
      "protactinium\n",
      "uranium\n",
      "neptunium\n",
      "imony\n",
      "tellurium\n",
      "iodine\n",
      "xenon\n",
      "cesium\n",
      "barium\n",
      "latinum\n",
      "gold\n",
      "mercury\n",
      "thallium\n",
      "lead\n",
      "bismuth\n",
      "polonium\n",
      "m\n",
      "gold\n",
      "mercury\n",
      "thallium\n",
      "lead\n",
      "bismuth\n",
      "polonium\n",
      "urium\n",
      "berkelium\n",
      "californium\n",
      "einsteinium\n",
      "fermium\n",
      "phosphorus\n",
      "sulfur\n",
      "chlorine\n",
      "argon\n",
      "potassium\n",
      "lium\n",
      "lead\n",
      "bismuth\n",
      "polonium\n",
      "astatine\n",
      "radon\n",
      "francium\n",
      "ornium\n",
      "einsteinium\n",
      "fermium\n",
      "mendelevium\n",
      "nobelium\n",
      "ury\n",
      "thallium\n",
      "lead\n",
      "bismuth\n",
      "polonium\n",
      "astatine\n",
      "radon\n",
      "francium\n"
     ]
    }
   ],
   "source": [
    "# Print the generated element names\n",
    "print(\"Generated Element Names:\")\n",
    "for name in generated_words:\n",
    "    print(name)"
   ]
  },
  {
   "cell_type": "code",
   "execution_count": null,
   "metadata": {},
   "outputs": [],
   "source": []
  }
 ],
 "metadata": {
  "kernelspec": {
   "display_name": "Python 3",
   "language": "python",
   "name": "python3"
  },
  "language_info": {
   "codemirror_mode": {
    "name": "ipython",
    "version": 3
   },
   "file_extension": ".py",
   "mimetype": "text/x-python",
   "name": "python",
   "nbconvert_exporter": "python",
   "pygments_lexer": "ipython3",
   "version": "3.9.18"
  }
 },
 "nbformat": 4,
 "nbformat_minor": 4
}
