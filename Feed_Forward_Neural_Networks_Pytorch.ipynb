{
  "nbformat": 4,
  "nbformat_minor": 0,
  "metadata": {
    "colab": {
      "provenance": [],
      "gpuType": "T4"
    },
    "kernelspec": {
      "name": "python3",
      "display_name": "Python 3"
    },
    "language_info": {
      "name": "python"
    },
    "accelerator": "GPU"
  },
  "cells": [
    {
      "cell_type": "markdown",
      "source": [
        "#Overview of What You'll Learn:"
      ],
      "metadata": {
        "id": "CjVt5vk7XOTD"
      }
    },
    {
      "cell_type": "markdown",
      "source": [
        "In this tutorial, we will cover the basics of deep learning and neural networks, with a primary focus on feed-forward neural networks. You will learn how to build, train, and evaluate a feed-forward neural network using Pytorch. Additionally, we will explore GPU acceleration to speed up the training process."
      ],
      "metadata": {
        "id": "jfrU_zGBXRRc"
      }
    },
    {
      "cell_type": "markdown",
      "source": [
        "#Installing Pytorch"
      ],
      "metadata": {
        "id": "P4MqP9pbXlBS"
      }
    },
    {
      "cell_type": "code",
      "source": [
        "#You can install Pytorch with pip.\n",
        "!pip install torch\n",
        "!pip install torchvision\n",
        "\n"
      ],
      "metadata": {
        "id": "7K3D9waUXgaX"
      },
      "execution_count": null,
      "outputs": []
    },
    {
      "cell_type": "markdown",
      "source": [
        "#Importing Necessary Libraries and Checking Pytorch Version"
      ],
      "metadata": {
        "id": "589m6wQTYHtC"
      }
    },
    {
      "cell_type": "code",
      "source": [
        "import torch\n",
        "import torchvision\n",
        "\n",
        "# Check PyTorch version\n",
        "print(\"PyTorch version:\", torch.__version__)"
      ],
      "metadata": {
        "id": "DglFaw8hYHbC"
      },
      "execution_count": null,
      "outputs": []
    },
    {
      "cell_type": "markdown",
      "source": [
        "# Tensors and their operations\n",
        "Basic data structure in Pytorch is tensors (similar to NumPy arrays)"
      ],
      "metadata": {
        "id": "JwV0y9qg0zM6"
      }
    },
    {
      "cell_type": "code",
      "source": [
        "# Converting Python list into PyTorch tensor\n",
        "l = [[1, 2], [3, 4]]\n",
        "print(type(l))\n",
        "x = torch.tensor(l, dtype=torch.float32)\n",
        "print(x)"
      ],
      "metadata": {
        "id": "JBSxrRVMWXI0"
      },
      "execution_count": null,
      "outputs": []
    },
    {
      "cell_type": "code",
      "source": [
        "# Converting NumPy array into PyTorch tensor\n",
        "import numpy as np\n",
        "n_l = np.array([[1, 2], [3, 4]], dtype=np.float32)\n",
        "print(type(n_l))\n",
        "x = torch.tensor(n_l)\n",
        "print(x)"
      ],
      "metadata": {
        "id": "BYsMBs84WXGV"
      },
      "execution_count": null,
      "outputs": []
    },
    {
      "cell_type": "code",
      "source": [
        "# Random initialization\n",
        "x = torch.rand((2, 2))\n",
        "print(type(x))\n",
        "print(x)"
      ],
      "metadata": {
        "id": "A1Ljjc1-0y_K"
      },
      "execution_count": null,
      "outputs": []
    },
    {
      "cell_type": "code",
      "source": [
        "# Properties of tensors\n",
        "x = torch.rand((2, 4, 3))\n",
        "print(x)\n",
        "print(\"Shape of x:\", x.shape)"
      ],
      "metadata": {
        "id": "Z1x7i_yLWXDl"
      },
      "execution_count": null,
      "outputs": []
    },
    {
      "cell_type": "code",
      "source": [
        "# Reshaping\n",
        "x_flat = x.view(24)\n",
        "print(\"x_flat:\", x_flat)\n",
        "print()\n",
        "\n",
        "x_reshaped = x.view(8, 3)\n",
        "print(\"x_reshaped:\", x_reshaped)\n",
        "print()\n",
        "\n",
        "x_reshaped = x.view(2, 12)\n",
        "print(\"x_reshaped:\", x_reshaped)\n",
        "print()\n",
        "\n",
        "x_reshaped = x.view(6, 4)\n",
        "print(\"x_reshaped:\", x_reshaped)\n",
        "print()"
      ],
      "metadata": {
        "id": "Mg82VCw6WXAM"
      },
      "execution_count": null,
      "outputs": []
    },
    {
      "cell_type": "code",
      "source": [
        "# Slicing\n",
        "x = torch.tensor([[1, 2, 3], [4, 5, 6], [7, 8, 9]])\n",
        "#It follows (no of rows * no of columns)\n",
        "print(\"x:\", x)\n",
        "print()\n",
        "print(\"x[0]:\", x[0])\n",
        "print()\n",
        "print(\"x[0,:]:\", x[0, :])\n",
        "print()\n",
        "print(\"x[:,0]:\", x[:, 0])\n",
        "print()\n",
        "print(\"x[:2, :]:\", x[:2, :])\n",
        "print()\n",
        "print(\"x[1:, :]:\", x[1:, :])\n",
        "print()\n",
        "print(\"x[:, 1:2]:\", x[:, 1:2])"
      ],
      "metadata": {
        "id": "vTice_ZnWWyT"
      },
      "execution_count": null,
      "outputs": []
    },
    {
      "cell_type": "code",
      "source": [
        "# Derivatives\n",
        "#We compute gradients using the backward() method, which is similar to TensorFlow's tf.GradientTape.\n",
        "#The gradient of y with respect to x is stored in x.grad.\n",
        "#The concept and workflow are quite similar to TensorFlow's automatic differentiation.\n",
        "x = torch.tensor(3.0, requires_grad=True)\n",
        "print(\"x:\", x)\n",
        "\n",
        "y = x**2\n",
        "\n",
        "# Compute gradients\n",
        "y.backward()\n",
        "grad = x.grad\n",
        "print()\n",
        "print(\"grad:\", grad)\n"
      ],
      "metadata": {
        "id": "u2DQSiU7Zayx"
      },
      "execution_count": null,
      "outputs": []
    },
    {
      "cell_type": "markdown",
      "source": [
        "Sigmoid Activation function"
      ],
      "metadata": {
        "id": "71bDTWfkakML"
      }
    },
    {
      "cell_type": "markdown",
      "source": [
        "![image.png](data:image/png;base64,iVBORw0KGgoAAAANSUhEUgAAAToAAACoCAIAAAD/+bX3AAAgAElEQVR4Ae29h38VVfo//v1Dvr/X9/PZYgGS3N7SCb0oWNe2q66u3XXXZdW1NxRddVXsroqICohKh4CIEDoBU0gCabQE0nNz28ycOXN+r/dzZiaXBEIxYEjmviB37szcM+c8z/M+Tz3n/h/hvBwKOBS4SCjwfy6SfjrddCjgUEA4cHWEwKHARUMBB64XDaucjjoUcODqyIBDgYuGAg5cLxpWOR11KODA1ZEBhwIXDQUcuF40rHI66lDAgasjAw4FLhoKOHC9aFjldNShgANXRwYcClw0FHDgetGwyumoQwEHro4MOBS4aCjgwPWiYZXTUYcCDlwdGXAocNFQwIHrRcOqC9RRw3yO9d7vsYYQuMbpHw7NE9aZfl9IP8HTPzjHZ0sBB65nS7Fhfb8FPkNwXXBDIpBO6pxAahBIdS50TQhNN5guhMqFDtAyQ2i4bMFX9CJZEo0LwSTIhzURz+PgHLieR+JefE33hSsDwNLgaugEN40JXTNYnHP246YylRCr8JQAXHE/sEyvNOQKwqoD118kFA5cfxH5htuXpfI0hKVde+EKEDLBOWlMzoSW2LNlw7i8PH9gUnMbUKxDFTOdK4C3ZfOeCFdHu/5SeXHg+kspONy+TwijPycYwxLB8Fk5N9TkTTOmXT+pMDg6IxScHE0KhUstzLihAruW49sPrhaOhxvVLtB4HLheIEJfXI85CVwZuae6wbguDNWIdYhU9MYJk7JD0zuiQtHhvhKWGWe6BVcA3kLuxUWAIdpbB65DlDG/brekVkwPNQkuOAMmyejVhNIjutr+WDQpPzKzLYoIkmYITVdlqMnQZdwYf024OqgdDI46cB0MKg7HNnoVrMSuLgwdsFSErgtF8LhoO3Zr/oT8wMzmNpwnE5hrmsKZbsHVCizJFoYjlS7wmBy4XmCCD/nHWWrwBLhyCvoaAkFgxJtSgGu0888FE/P8V7VHcT7FDPqKRpFkGUE+Ea5Wy0OeBEO3gw5cB5k3uk5OnBCG9bIfoGlmfsOAYOMG+2b7nl//wAJVL1xlTYQC37UXrkqX6Dh+R/7EXN/Mjh6cJ98W2RpNIZOYAsVmjFhqV6vlX3+MF20PHLgOPuskTtPblfiUZ+yrHFmRofsyyE0l91Umb2AME1yZIVJCj4me9tvyxuUErmrpEnEdKVdNhzqFJQxkpqVtJFyH7lgvmp45cB1kVun0ksqTMSZbl8i0lap9MMjPHpTmLB1opV5pTjGAVUEOqgbMKoBrV/Nt4yZFAjM74kIRIknG8ImhJssYlvVNg9K9kd2IA9dB5n8fRSpblydt09e+xz4Y5E78kuZIE1ICxq5DJO1qCMY4Ir6CCT0pkh2i88jNEyZFQjOaukQCeVekZjlnCAb30a6/pD/Od9Mo4MA1jRiDdGgYBmPMhqKtY+3mOec2dO2TQ+XAgqusGe41hknrMsaFwQRXBIsJpe2a8WODoentSZEgt7Y7EZXaFYawidg+Bn+fj0Nl0BdLPxy4DjKn+niktqcq8anrun2DfTDIPfglzZlOJsobeuFKQNWodpiivkxoKcA13nTlhMJA9hXHYyIpRJzrlJLlumaW/JP7ai7coU6lH/+SXo7c7zpwHXze25rTxqqtae2DoYhVcwWNrG3gOlbYMGhXgisKJDg5r6mkYNCuTft3hANZGb5x28qb40jwoIIilUrgfqld+ypYB66/VNgcuJ4FBdMCnLKe1nTqqAkZCEVwpaamZv+BOo3B8ANiIb3IQ+pMFYYwOGtsONDYWK+aucwTO5D2DILJCVdN0/SEc4P64QTtSlgF8vCSDqmBtThcKMlnZv017L3U583M8OaP9oyd+Yc/difj1D1rAZ3VVFr/HLimEeOcDh24noZsBicrkAvDQDQFARUESZkuGEBICkfXDboSF3rP11/N9/oCpeVVuJOiqargKaEKQ4XXZ8D3O1xb5vWOnr9sZQ99DYtdpA6TIk5BG8qjkEKTyooD89B4Blmp1Gtd1+V0IL9H8JaQsP72Rzy+aF21oHgCCayvnHxqMJ9EHiyIgRpDWdJvfe+ExpwPg0sBB66no6eBkjpdBdBQGWvCFRWyWI0N5Ep5ZYJ1r14yP+DJqqzZT/lJ+H+GQI5SxXoVJpgK7WQwIWJNh/dnBkJLVv+U4NKMRFAVd+sEE0Oglh4NY9kaYEWL2jit/2aqxjmXRRcSrprOTGV2AhRNO7bfCAeEa7+7nRNDhwIOXAfmBUxcwNJWcYAN40ZSGClhaIJB9yaggnlteWmR37N65SqCMJeqWBNC0TksYp2wrgssWBEK16LbVi4PZ7grD7VEyfED0DTdUPAsqrmlBpilwFEQhaVrXNdk2bztBidSyTTtmjYcC8Fpp+ShA9d+JLlITjhwHZhRNlx1rmpSy3GhGkKBkgQCYQPqgseT0aumTPrDlTMMQ8QV1RAsqcSkbpTOq1Bxv5EC3BUDKBaxjjunT51y/S3HKAsCy9nEEc0N0nimM1yzLE4Z+AH8DRmsgj2M78l63RPH4sD1RHoMg08OXE/DRHilUKFMsITQo0LrPNJUU/rzjn3l+38uramvbykvqxJa94Y13/i9gbXrN2vQoxR2MljqeMdPyze+/97CnXsOQLfy6A9rixd8vrAnRZpT7di6bKErXLCudH9KQgvgNFBpALtbEVoS5fSc7GGpcg0uYz4EUsIoBWwd7XoaLg6Xyw5cB+KkpZ+4nugQPLZ765rxY71+z+UBjzvoy/d6CsZkRnIiucrx2pceeygjK3v/4WhSepyC6/GeR+68881nX/CMidzxl79rQr/nwbv8Xl/In9MeTSFipLW0N5S5MrNnz/lYJ1eYVpPKMDJmh+ZDtSuXfr9u7fo1q39YtnT1mlWri9euXrNqbfGadStWrCouXr927bri4vXJlGqGbfsMxep9n9O2EqeDfhedE0OYAg5cB2KOIYSiUcKFdyz4YI7LOybDk3n3H2+5YuyEoC9/0ZJVCxYu+n7xAtHR/MdJU7yR6UdiqJ7VaCW3gAkb1WKHZhZFsj3e2+59+P7Hnjve0nHgQJ2GILMuRJfac/zqgmumhq7r6eaKEAnEpQBXrqeESBav/jbgd7tcrnAk3+UORCKRjIzRAV/Q6/YFAqGMjCyv1+/x+Do6u89Suw40ZOfaUKaAA9eBuSMXesZ/WvpFxHWJJ5Iz/5ulQuFtdYciGcGFXyymGJQiejquL5jgi1x1NAG8qRQQNgDAqBDtc59+MDvzEm/+9CaFQr2IGAkq5Os2WPyW/Jumjrki2qEncbeREFw35AQRFzy+/8C++saGutpDB2oPHjhw4PDhgw11jY31BxsaDtbXNx4+fLS6er9MAp1ElZ7k1MCDda4OdQo4cB2YQ5oQXcmOhisK8iPeyAuvvx+n+K5QtbsmzSi63FNZ16gIET9Slz8m0x++ppnWpsS5lhIJTcTI41X2rF5Y4Ln8g2+Wd8jCIINptP0YFykeT9xeeOvU0TNS3ajji0HBkuNqYIkLloALDa5sr/Y0ixDstXfwbamiXv7VdUNeQkbW2uKsf9HywGN2rg5ZCjhwHZA1hiJ4a+W21b4sfzhn+qFOIyEE45rQlL9MmJl3iXdvVUPcECLRcW1RUTj3uqZusxZPFXEmemAPK8llH74ezrzssVffa5eBZLk5GR6riYR6fd5NRZlXxtplsFgkoFppyYvWk+hsrty7q7a6qqpy/76KmuqKyqrysup9NdX7aioq9lVV1ch/imomXRmCxOZL7jDq83gDgYDb7fbRy+12ezwer9frcrm8F8nLGpDzDgo4cB1QDgxFqMe2rfzqck/2nI++i8oiJD3Gjh+amDMlOzS9tZPM4WjTTRMLPMGpTTGRQiEFmdB6j2AdLRVbpgbHBDPdnoKb2hDtlbvdC01hUJ7J+BWTb4lEropFqRACcOOoqjA0wZVVS77O9rpDHl/AHYz4s0MeX9jr9bt8Hpc3JyfP5wv4fAG329vV3aNzoTLKKdFozIJkQ+Z40aa9kUVaPTMCy8gI9b6gkXs/DY2jAdkz4i46cB2Q5YYitNbNy78cHSp488u1sE3hV8bWfPVZpifvlbcWYDsXnYtUy5xZ93r846oPx5EA1bmIx4Wm8M5jM4si+zavnfP0M67QlQdaxdZ9Bz5btFCVlXtad3dz/Whvwa0PPJNUKExLBUyGJssVFT3WuXX9urLtu3Zu3rlr6+5dW7bt3rp19/Ydpbv27Nixa9u2HSUlW3fv3tMdjdnGsr1yALCkszp21EfdL/YHRueEpun03n/gMu3b/7xzZqhQwIHrwJzQhHq8umzzGG/4ocdeVqhcYc2S5WFf6J5//CsqUccUoR3bs2mFxx1eubqEIxujvf7QQy/e+7cJRde99eanQouv/eq/Pp9v1nMv/28gu6o1qsgfoNA79mxd+/tA7sIfS2MUEUYkSsapBGdKDDpW1mZIHKHeGL4r1UVBMRL2oFRVpnFhqAylT6qqonkqtwJiqfZCUfBMG8ynGLMD11MQZsicduA6MCs0IWKcRz/97ItgsDDiK8gLFBZkj93409Y45V2gSFlKiA6htkzKL7jumhtg5Cr6bRMnFY3x3f/w7Bgqn5KdDWUB75iMgHdTZY1d1i949P67b/GOndyswuNlKhUqcsFUqQ81xJZ1hsIp+tUZxsitRRETUGgvoJWqVTdwVsLSHBIBm4ouzFU11lfw9ZO9HLiejCpD6ZwD14G4YWDljUIlh6gfjLf2GArWl2tWjhRLQA1uGHEhuveX/pjjz1q+cUeUC5E0Yq1tKSRmzCKnzs52RVGwBT40Z1SI5OYNa8LBUHlNc1QRsrgC1fwSfAhDqQxPFwggUexXR+QKmlPCVapKOJhQoPhLKATkyAXtrWlUlKStWnVd3759pwI7of/LgWt/mgytMw5cB+KHAYRo2A2b0a9KcKErKvYbpaL8uPXjEpQpjQvW8d93X88IFh7s4Ag2Ydd7JSESCgWoACdkSDmKGUW8veVgwO/99JMvVAWLcBj9iJvc8R67MeAreLRGi/BQCKljzxVGXijQS5aw+ZfgKhErTV8TsShmlP4qR2MG27ThhwmF4yPhws5Oc1WAOXhT3fb7jQxzDjgNjK2Zwp5rTrxfXu7V6DSh2PdiTTCRRXaFbpPVXXTCtAsGYtJIuubA9TTclpuMmUrPEsy+EggU0eo6g/37tTfDkfymI82kGgEAxs0EixWV5U3Nh3wB91tz306vcOiVZ+oRPQL4tc+nH5+m02mXaQrgItV5w7SiayeOy/VE8iMzurrRXSsva0IHXaU9XxQtBRDJzkHjmz8DaY0ag9I0OMO0/wR+i8NsipPvjQ1MUzIPbNIN0TjzfmEwQ0PNtNyaGDYCV5rqqp956tnHHn1SMLFt655g0dXNPbJXcvVg2nhG9qED18HmvyF2bNm6d9duYQhskG2jjZ4jJb607Oede0pTTDN3EB/sLqS3h3CYRkkjrUsku6fnjQ/7ruqgX7UxlRgZ08LA5kxMcNXQ5MJ0+ctUhpr8aO7rLzz9OBxjLlRu0ARkRpvJ0OAKT6lIGxMEyVeXCWa0D1wyWAk4QlCa0lS0hpAqLvEtjsVJteUVflfgnbkfv/Dy3K+WlSSx+4ZUvOmjGenHDlwHWwJkKEjiklQMNvO0NhzWDS4TpDKofCHgai7lUYTSJRIdN06cGgnfcKxDTiPoFvoADxwra8l3hrEqHWO5FOm1px4fFw629sRT8mYKNcPUZ9gdRoMVAQ2MrW1IDdMWGKjcUDXTsRZcaawqW/LN0qXLVq34/rvFX32xdPmyRd8tW7b6h+2796INNSaSPddOnRbMuyKOFcKWrXziZDfYrLr42nPgOsg8gyojrEK1mhah+QhkPkkOab9eeJ8y9TLIPejTHDm+KIdUekSs9cZxE4Oh61t6JFyh3oEIgqvc/ZBqHhFOM5HClLeefnysz9saT8Sl/cwZkInv4LsyAKaqUWsBMK6kEsmfNm96/4P/fvLxopryBkNN7tq68eGHZz37zIuvvjT7mScenzNnztPPv/Dkcy+//ua7+AJXhBZ/+K673p23HLUoZJejoOQCzGd9yDW0PzpwHWz+ECIBWnrZelV+lNVFTG7Xa/m0g92DE9uTMwQW0ydFov2GovHh0PWt3XKxgdlJml9knIniQBxoNDNAauq1R2dNyQ5FVT2GeBgFqWn/b8TDdKswGdtQaUJNCZ1Xlld7vKGcgsKKyv0zJ/5pbPgKwxCqjvJNIFFLCTIxmBAp0stUWZ2sK90ZynLdcNuDPRR4g+2dcsB6IiudIsS+9Pjln6EZIGd2ClTu/GAXFfX+KseF067karKk6Gz608SJfs+V7TFABz6qCWZ8sIJqiCFD4xk6YrZcm/vcU+MC3o6eZMrcPANxadrVTWpX/OUq1KPg0dKtG7I82dn5U1WVaSnjikm35wRmMFRqypCVgi3myC2lH1wXjOuH6+qaag/8/d679u+rys2dWLKz6q0P5qu0PZVMWf1yngybFhztOsis7FM5JAtv7WfIj/IeK1BsXzw/B9jfjWCpa6L72M3jxkVCM1rpJx5h7gKQdNV8OE8le3ZtK9n20087S0oqdu7avWnjrHvvyPZlfvXlNyXb9mzdWbqrdPf2nTvsYepYnkumsa7Fj1XlBkeP9hVVNUSFoq5cuGRU5uR/v/ktxaA1ZiQMrDtSDA6fWYEhzQyhTh07viAYicWiqVRi5pSr8rIndKSw9BerFE7o2/mhz0XVqgPX88UuW6DhG1oL3mSm1K5JOl/PTm+XCjOoloKJaPMfxxdGQjOO94Frb3aTH2ysdWeMivh8ef5AYExGjsed7RsT9mX63CG/P9ftCWR5PW6vZ3fpXvpJHKhWUsVcaIk3nvpHKHPM3bNerDoUu2bSlMho138/X4OkEFQ54yiwxCZVXIfPTAsFNYSHU5pQDUI9bVrFsGYY33Lgms5HOnbg2o8kv+xEmnV56obO6KZTf/0srmBDYK7LDeC46D58c1FeOPuaoz1AC8EMlRQwVSmPioItNVVWurOitLSqdE9tWfmBn/fef+ctuSHflk07KipqyyuqS8t+Lq/Y19kVJSMYjWgsJkRMT3RcUzAtL2vspe5cX+Hk7xZ923G0RW7OLKNWcp90iUIZGO+FutSiVn2W3KuKRtk7kZzFoIfvrQ5cB5m3Z4TEM7ppUDrGuY7FPgAGYyLR8seJhS7/1CNRhHkkXM1aK+ysSNgwdK7KLd1I4ens9eefHJ8bifUgvUIerzCBR2hjtE+NoXc0N+7PG50/LjCjIyHiyPOQa8yhO+1qEFqDYOpNcpWlcsZPw8r0kIQxzkqIU/x5UAgxPBpx4DrIfOyVtNM2fBa3nratU92AcivO6adXORM9TTdOLAyFp3bSogLoXKhWjmitDQz0Ct4sYExFWf956l8FHndXXEkRXOWTKJkMnWgITWXdQsSP1dcVeApzfROjKfilqBJJpma/+kaSIK4r2OzRzBuhCexphQW3uFHBR0oBm3qV1Cx1ztGuJ3DWgesJ5PjlH84Cg2dx6zn2CzlXTlVK+IUq9Xj13tysMW5X3rY9B+OEEoIL5WAEV1QykNErRK/xSHxfff2xRyeHw8e7YzIVQysITBTRCEg3akkei0/ILgx5cub8+526Q8dKSra63e73Pv48iUiwIeh3BtTeqBbgKpcuYNd1+XsIVJeNTsiwML5mpZrOkQDD7WsOXIcbR9PHA7gBdFxoqdmPPxLJGh1yZboyAv7w+Jl/urc1bi85wC8tG7JIEFYo0Ggiy2Cv/+uxieHQsWhMlknYcMUvExgcSw/kvZyXl+4IerJCgbDXFxrjC2zaWYqWrFIMTVNMC9fsogwon0x/mn1I82HTRzWCjx24Dmfmo3AK1QgKyoYU2juK43d2dAPuZdz8lQHF4Ipu2L+yI6hAwiKLpi388L1H7r+3KwWLuXeDGfxWkHUP6WH8yoGhCUPpajve0dWJfVilTYvdcIR0oc09mHu/R3qVTGIL1HKukFOGA9deSskjB659KTKcPku44lcFuIK6XF3D4hkO1MVp40XAQkGVrhBaiqX9kLK0hGUqRcW+FlJRK7RmED+3xRlCU2Ysl4ALi5cLDYUQsLxppkC1AzauUoSBtb4SkxbM5aaw5jRhwtV0EOQKJweufYXRgWtfigynz7BvyQPFDyjjt7A0ISuMzPAO4Eb2ssJ1MxQkYYMf9ZC6EcFcqE35a3pWjFeiUIajLIIhLkW/oIdf5lI1A4v4ET/CwhxVGArVSaHVNLgCkPKMef4EuJpPsR7gvDs7IQ53GejFBpbMWw4peZRWSa5EBXzINCwRXXrBczIPsz/p0u6Xh71PJ3/Y+mh/cwBAntkT7ZZGxoGjXUcGn51RDgsKOHAdFmx0BjEyKODAdWTw2RnlsKCAA9dhwUZnECODAg5cRwafnVEOCwo4cB0WbHQGMTIo4MB1ZPDZGeWwoIAD12HBRmcQI4MCDlxHBp+dUQ4LCjhwHRZsdAYxMijgwHVk8NkZ5bCggAPXYcFGZxAjgwIOXEcGn51RDgsKOHAdFmx0BjEyKODAdWTw2RnlsKCAA9dhwUZnECODAg5cRwafnVEOCwo4cB0WbHQGMTIo4MB1ZPDZGeWwoIAD12HBRmcQI4MCDlxHBp+dUQ4LCjhwHRZsdAYxMijgwHVk8NkZ5bCggAPXYcFGZxAjgwIOXEcGn51RDgsKOHAdFmx0BjEyKODAdWTw2RnlsKCAA9dhwUZnECODAg5cRwafnVEOCwo4cB0WbHQGMTIo4MB1ZPDZGeWwoIAD12HBRmcQI4MCDlxHBp+dUQ4LCjhwHRZsdAYxMijgwHVk8NkZ5bCggAPXYcFGZxAjgwIOXEcGn51RDgsKOHAdFmx0BjEyKODAdWTw2RnlsKCAA9dhwUZnECODAg5cRwafnVEOCwo4cB0WbHQGMTIo4MB1ZPDZGeWwoIAD12HBRmcQI4MCDlxHBp+dUQ4LCjhwHRZsdAYxMihwweDK0+jJhUj/mHZlCB4a6JMhhG72uU/n5Uf6a9B95h9rJObJi2e8Vsed9yFIgQsDVy4EE4Jb8syEYNZxf+kfSlQyaGIxhCq4gj7LgWAsQgjOuTBUIRSmJ4XBRFIVGq6kNMBbGIIzA0cGF7pKXzGxLcdugCAOjIcSu4d8X4YCXFkalYaY+FqTiiKYCVcAMV2XakIoOk8Ilug5eLB6287/fvzF4eYuhZmINTRmaCrATBOWxLkFVyA6bezOoUOB01DgvMOVbMmBtSvgSredpq+/0mV0nglNFQRB0pfoCU4DtxwqVelqO3j3jTPzvFn+UG7NodaELhSOQUEDS3gL+vwrjcF57PCgwIWBq6mRLF0FCSZv0JR66/zQJCl6qwumW2pVl5OLpgudG4ahG4wbihBxkWyePj4SzMlvU4QiRIIL806YwybUh+YInV5dLBS4gHA1LPE1uDC4juBNHxgPUaLZtivUpC4MaQmQ6hSGxg1FBzzjR2pKwp7fPPb8Cz1CJAROMSE0QzCM1XrZbdkH1hXn3aHAaSkwBOBqmJp2aNrDFqzQSdOqBVE5nFmDcUSTpKmvLPr8vYDn8hUbNvYIEbPgKhVs79Cs5shQHtI+wGlFx7nhwlPgAsIVJiVpVM4Ft45J00rDuFemLzwZTv1Eit9qQiQJgPI++mgowuDdCbZ8zYaP3npnxdffTBs/PRwcW9/cJVWrSqpVwpOx9HCa9TB5zfrkvDsUOC0FLjRcSUcBrgbQS9EXCt7Ybt5pe3yBbyC4MoJrksxbOjbigiubNvw4Klgw7dqbq7aV3Dhhot89duZ198fYCY6rYZrOJ+u1A9eTUcU5NwAFLhRcSXXqMtNI8VQz68h0QXBVuS61K4VShZRywzDkR12H+2fQyx6Mruvyqn3mfBxwHXlTA0lXzYQrTwge37D8O4/L+6d/PtXFhdCOb/7qI69n7OsfLpMuK0Nvpa3Lua4JQ5eWtDyXhtNTJnLs0fUHPGOM0wtGOSLPv+arD7+EEJJZA/SJMWbfYzNa8tceUf9x6boub7a/O8AjzvclyYI+T9E0TZ6xB2XLrTwvjaz+Q+vTzgAfLwRcbSuX3DxTo6JSwgBWOTN06b5yM4ojYdnfgEwX3P5XBxjkL7pEZoAuhMJTgCvKJWJHq8sCGZ6c/ElNukgJIZKNi157MtNdsHHPcdRDGEjvGDoiavSPGdwsk0iDq53gGah36aLZZ7ayJTv9noHaOj/XJFNsST1DWZTfsicdOYQ+PJUn7QbTuZ9+fH6GNVCrNsGlOunTGZtNsud2/+0De2Ia6BmnuHaB4GohlqoFTOXCVCVu51vhvnJK75AWFch1wt/TNM2mjhynPJ/+9xRDG5zTyMEIriL1yqFgjaRIdvxx2jSXe8KyHyri0KBJkTh4+7T87MKZTXGEghF7ojGiQEJLpddIWHAFok374hTdlACwiSBlQoqCZLwtFvbBKVq6QKel7J4UeOk9SGdcugSnH0vLIl2DyTNIm1k6Nr3NC3lsmwZ2T+yep/MoHZOSMqqq2lJ9zh2+cHAlxKbBVZe1PlBEUlGYomwhWw5eURRbjUgS2NRJp8g5j/90XyT1CLiKhEEVEXoyum/n2DGZ/pwbOgykaoToat+/PXvM7x+Y9Vw3xxmm6romjQgOrGKkVJ1I01EfxJ6qA+nD5BwJ3vQ7bb1kq7X0qxf4WPahT4fPpA/pLJb3c85la/KS3aY9fPvMmbR/Xu+xu2Tb/7ZesS/1P/iF/T/vcAWoKCAMcTMYqRoio6EJBkOS6bKwViokXJLDtgdvw9WWWkkFOV2dV5ZQb0BhJoQqXdFEtGzpF+MzMu7710fHYb0nhXb0H3+5Idvrmv/Nyjh5txJYMIYp8yP1s+ynhVVZfihvOOUI5FQlB2u78bYEyNnKnuNP2coFuWBPH4ZhnHYGsfvc507Ouc10+x5bvm0KXJBpeiCqMXpJsew/Vcnz9kDs/gshbIlNPznQk1Zvc/cAACAASURBVPpdu0BwRejFhCusRUOIZGfbp+/NLa+soGohGIbcqqOQ9pKNUptzduf7SLB9/rwcEPgUJos6hNCV6tVfF1z2u3fmb+jA85Qln/9nrHdMbjBc2xT97Psfyw4c6klJi1jCluu6VK2424ar1dVTBorSAZAuoJIakgKSUP3pYzV+4d6ldGqaJgUxfU7p0wl5g04ve1zSyrXvlGJtC7ct+vKGARq3Wzh/BzbS0h2TdB1j33CqA/v8OXTywsGVYMkE12T29YsP3w9nZXw2bz7sSZ2TkrXKnoRIpaB45UsKpc0kybz0G6wbz8s7xb9g2eqMwkWsZ8/KeUWu34TzpxfvPDD340+yA57CjMyxntxHn/to2i2PdFGJE7I9usas8LCNUnlgdvSEDyfvfDKZtKctW7jTb5U3pJ+5wMfpwicBJo2CAbqRbjWkj04eywbtKTvd35OsT3/iAE85f5dkN2yBTO+qfTK9k/IGW2L7zD5n1c9zgOtJTDhbHKX5Z/XADn6iKAK6hgOutHqOXzd9RsDlW7JslWIFZkgcKa5qiN27ylrbuhBexVoW03OzchZcGNqubSXdXR0wj81iRuuZfd/tPvS9cIafqfKX6pZMFzRpdDZcNyUnyxPMChddef2NLS1tN06ZnufOvv6WWe0MgWJFIOcjZyVGS+xOnlXuC1erq5Q40gze2t1dsn2H1NGYLyibZROB6YhUbynZxFQE2EE965/54WQjNFszL51St5vXe5tFYAzMTe+zdUxmKqNIuFBT2vqNm1PMdrXxLfNGtMZ1ltpSsokr6DNjWEcpXyTf5OozjLP4xy3xZMLMnBmaMNjButrq2ga5cML6kt0dSTpJBvviWRzYpLP6Y49UDlxSlgmDG7rYuWPvsbZOXQgVsovhyW8xTOioDz9Uf+BgY61GqT+wHsRgpTu2drZ3IFJmyQa+hf9oxHruafp8tnAlggJCeID9D1034y7MYEkLtCSrqP5RKNZCWDUUwWM9HS15OVMiuTNaY7pCvccMxFE0L5LqrL88kJc9raUDoTRNpGjUwKVh0oUJPb5p7fcB9+iKijJVACFImli9ge2J8Cz+M64YVLdLYViLKlRQKOc8KTHWVyXtLNhIAe37l0k8dnX3dMWSsho40RWNd8W4XdNv0h51IFgOa/q9HOkcepL5OIo5y5A4+bcaCMVTAnlavq3s54zc3PlLvgPsoafReTt9a3AFlRtG7IWnHy+IjOtoSyJsTa0kVTMWwLBgiF6WLBhCpBAqkLDjHIt1MVgYDtS+rjEy3RH/wxTLKWyGKVZjcN4ZEVroBpVektyZ1odghqIkWrsnFk598J/PdunkO6C7mLt0ub5ZZzTAxMvPPDU+PL67KQYpljxB6guzsGDJeEtH/vib7vz7iynkumNCxKJtjXOffyLb7Xr9/Xk9RExrzqLAHsq4U3iKObPSsgtpqqb9tXFgK8DezDbIosnwBC1l1sEpFYg10HlNl+EVLS7UxMN3P5qXfcWxblWh1LrBIX5ER4ySyMia95eF3Jd/uXR5D40f5DfiP678Juz1VlbUSImF0CLzwWhVNESBEZLtfp704NzhKrWHKXnmNCgowQj9qSOMRHFgaBo4byRLDIkQ3l61a4vLM/GN91cmaKi0UYMmNEUw9rc775mUNzHRI3RyZXWhaVjbDTQyRhrGUAVPCta9af33Xk/Gz9WNsjKB02wNesmSBJJRxlFjr+kpTVfRVS7MmC0RQ1osMjcqB2JNNP0R20s9eaducE2nwDDlnKD65BxhTvR4Q1KZZhNMSTLMBuOC67pBqAF9UIaBtjnTqHjRUEQq3riv8nJfYNH6jVFT7tFHCL8EHv5qnMdATF1786U38sNF3Qmm0LNUaa1Yc75UepwWFMkOpsNVB+wJsXAm0a4BESLdQgPh0HUag9QyVU2BtppOeWVdVwByIFJLCT0herom50967NHZUYYVDugs1iFhpgYR6LNgWBgsOJv7/GuTcib1pFjcEJqcVQxVGMlE85Erx0178J+v9WA24rqIbd22Ouz+3cxsV2TM6PcWLOsUIk69Q9hA0VQ8iNPMpUi4SmL2css6MnlNkWd5bF5BRBC9jZHIpkABKHNzljbLY0ghaD2P3POXQt/4VI9ZkgozgLQUyQGy6zSxcsHjxw/tdwV8S9YUp4RIYISYW39atSwSCO6taUwQpyjCwSVcQVcob6u7p3g/N7iaJqglP8RvGjPjOtdJnbIE0pUcijilY7am+iUu9G7Bjnw3711P6Kr6Nsy9SY0bQqHzsZVffekN5O5rOMZkBRHkHeIMSTUfpgkeh4EJOeiY8+w/i4qmt/fImV+Q25jE7KBTaIiAJdHFyAinGQTcTiQSgAjn/bRrGp3kN+Xf058mSWckPBAZpoPT6LWctEwEcFVXEsAE3QOtQ+JCUzvqMMD9rtar8/MefuS5HvouPVnRGTQ5Q4M8pSdJKBFqhCqOtk4tHPvQo69G6QYsATJULpfsIZct1FiMylHQN1vlokYFXoau6dAj5uIhYhZ6BIITKmGbxDVBdgSgLISqcaDXzJIDh4IJpfVff76paOyMjgR4oXIjqZApSzNaCgwWSQ06mRjDRSw2o3DCg7NejNOKYZJTrIx49IGHC7MnRhMiYcgFwyToemfFxmWRMZd/+PXKVtJXZB6RUBFBMAXoCuZimiPTdOoJh2k8xCHMMYQ3mUzxW14MaRddo7bM2Zucbb54/mcFAf/h6kYQwQqLSkaQaSAdPUzAIJyW2LL6m1DWJfsaD8WljkWBTeerT80KZY/rTJJgwJ0hR4/qhWDznCe4StExhcYUSBhaZBxyoUUFh0hhajH7ipGrIHNSaMf/fM30tz74BuJowLzSMVtF440HIqNG//udj9vl9AmHUc7eJD1SxPU4qRSaso1orK3Bm+l5483/xsgmYeiJAjBzHYCXXzFJQM1xVWobmpuR0ZX6RJZVWcORp62vnwKupvVN8mB+QSo0qdwIrr2TDN3BNEXoVDVBdqW01eVkpAqeEEYCcDDefv75Apf3yLEeWHiYdJNYTCtAT4AF/zCba9By1Ekerdi5ZbRr3IYtjaSpYGcAUTIiLSurMI9YPpbdXUPHcl1qw55WTOsUlgFQzPUUM2KGUJiqmQqHxFEhHDIKLQjBd676rjAr44fNFTGpSHErKXs0AsSTywPvQBpdQo1Xbt3iCY37cVctZIZrgrVtXr/M48nbuLlSzswWOzTBunYVLwpnXfL+gpWdSIATY+kyGVI6MoKWg2Yxr++7zBJZcXWh60ijoyHEU7ii4vs6CJxAZ+BckTsg6SKUw4012YHIG6+8iZFpKExlKcUUMJNU0BNMhcqk2ZSJxPE7rxw387qbOw3RBaXDBetItTQE3MG33vrYRhCgDo5Zhl3fjp/w+dy0qwlQohi6T/+gTBRO5p3WLXhc5aKmqa2ksmJ3VU1DTXPV3sa95ftTTNe6YtkuX3NLJ1xTmKhcEUlVj775+FOTfbmHmlvl6rOUghm87VDjj8sWff7R200t7fCQe9oXffJJ8bKfaPLThIi/8vzjeTm5h7vVqJwXbPfTzN+SjydlVwomlT3aNJBCb12xT9OBfdYSHHlZnpZwPeEL1gXiInSqSsYwGAwBxHAhBRJ2mtETj5bXVO4rK6+trqmqqqk6sL/6YP2h1haXN2fOa+9Lp1eBDtCE3l6/b/t3C5Z89snCqALBOna4ccG8zzbtrZZlVUqs46op199z6ywoX1J3htDI4eQqg/feVxYMwVSt1yU2J010E9rOUMmJsCYsqE9NsLjQ413R9p0VP5eWVVbX1NVU15WXVx5ubuqOp6ZPvz6v4MpuywxmekrXe/ZX7/p+wfz5H3yYTECIDx6s+mT+xz9VVJNho7HO49MnT7nt9r9g7uK60KJXTxmfVXhlu9R7CdgF8OdgJsR3rPki13v53HkwhuH70CAxZxkcdhM5GnCXUFac/gL55L8TOJX2wZRhmH+q4DGR6qwvryovrSwrr6qsObS38nhFRaMwOl584oFQcOKhIwoFx7B/iDCUZHPz5tXr3n5n3q7yGkMkudH9w9riBZ8v7ElRfYHSvuv7hX5PUcneQ+SpMoP1CDX25nNP53gDh7tSPURgk2GMxmvZq2kdPOHwLOEKiYTI9ZYNQIVTjITiFnicYQge37Fxbe7YCZnBHH92MNOVEfYWejJz/eFxbd1JPSlKt+4BUU3UaynRk1R7ZhRNHxcYn6LaXPJJxOFDjQ/eeevdf5ia77n8868Wd6uiML8gzx/JC07ETAioa8XffxH0ZSzZsL0dipscIXK6yOpjTYf2rVw2v7h42bq1xcUr121Yu3HNqnXFa9atWLFq7dp1a9YUr1v3w/IVqxQVXDgRlZaw9rsgT5h/STZMikIjyZnfnDNk6aI5SkiVChNUM/Qu5d1X3x6VmeEJ+YLBsDvLF/CFXZlZs2c/tXzNisv8eUvWbZcBKoCWp35at3j2kw9Ozs31Zfgr6o6UVu/3Z2UFvb4nX3kLPh7H4r45/3oy1xU5fgw5X9KrGhNMQTUV47pSvHb1qlUrVq5cuW5t8drVa9auXLWheN2G4nWrV65as6a4eN2PK9f8sKu8RvpgpD54EsqZYA4jgYto63tznhnjHZMZiXhDOWMyPG5P0O8Pzn7x2YbGI6MDkx586p0e6TyrENYfNqyZ/fwTk3MC2Rmjamtr91aU+/wZWb7MJ16bCwNY1wRPvvz0P/NyQ3XH2lQhOuoqw5mj7n/uP23yodKJMu3V2Pa1n4c9v3l3/qpWAyabzSmZOCCzGGEe+/wJMk4fYPpaL/tYWgdgSioqtNjyBR/n+zJDWZ6IP8flzcn0jR3tnlhQMEUoh6cXuoO517YpeHqKqzpLimTXo/fcPvvxRyLh/NvvekAT+n0P3Bv0hCL+nI5oHKBItcf212RnTZw9+zP4GojGcsHVku8X5rhci37Y1SojcBQ30wlWmKEGfJ0lXKX1RT6SGWbBxEbOKmY6ipAZ2qfvv+V3Z7oDkT/ccNOMwkjo8t98++2aBUuK5y9cCdbLuZ7knekpDgs+Wbv/gNc36c67nkL0AAZ9nIse8kWVnvqa3FFjQjkTA+Nmzl+8qrUjWXugkRIb4Ftzza6w57KHXnijVYhu8l4QTDItUl68fGFBJDMz47JwMBRyh/yZ/oDb7/P4g8FwVpbb7w+63V6X29vR2d0PlRZcT0I+mg9oYkqfyTFNIaKDq9Jrlf2HzjLVmyaM+LH62km5092jIsFw6IF/PJDlC/3p9vuWfr9q4fz5TXWlTz/xQEYge2fNkZQhVHJ/SczgLPy49Iscf8a0G2/KKpi4befe5qbW5hakEzAxcW39d1/mBbzfrd0SJ11OoXjqp67yRGz6uPF5oZAv0xX2+v1Z7kgg6Hd7fB6v1+v3BIKXZnlGByJPvfYWLFUOPupkFyCMlEoITeuqPTDJH8z3BzyB4AOPPJbpDv35jnsWf7t83rx5R2oqf1i9+jL/+HeX/NAFuKIzQmfkkouNyxbmui695bbbxwSzS8v3HT7WerQjacWKtJXLPnX5Llm6aWdCiJJVC3Myf/vpwpWIpprxL4sFenLbunlh3/9++FVxB9nVMD85N7D5DhGcgpDC6C0bOgnTYG0ZMpxmXiXK4g9XRfzY7dPyQ16X2+1+6rFZ3ixXMDL1m6Xbvliwesfmbe2124qyXTff9/IRJqR6RwuIznQJ0TapwOvNyrz9rn89NOvV1uZEfU2DBmdEFTxudEavitw4OXxdIpHShJqCh8YPl+0I+9wPzP6wWQhFCgoFtGjVl7SJT9p9nDx7uBINpVdGrVpwpYlcsMTaFd963R6vL7Tw22WC83hN6RXeUZ9+vhDulyV/sNelYEM5q0JPHm04PDp45XV3PA1vG0HhJAWhaFF4tO36orGXuyL3PD4nLkQPlQRqjGOO1EV3Q3ko65Jr7p3VRB4erK70f2r00IGfjzTW1dfWHaqtP1TbeKjuYH1tQ11dQ319Y11dQ0PDwYbGQwNp15OQrheu8qJdHWkSxPJ6SN/HMVLTM+G86+jVEwoCnqJQcHJre5shtBfnvJw7dlJTS4KphtDbX3/2IZc/tLWiTppFjFIDBPfu6KGybPelo0LZny5fjywCTZ3mbha6tmn1gqDv9x8sWtoun0YhOjKFmNC1liNH6qurmw8ebqg5cKS+sb56/8G6+oa6+rq6hv31B2sOHqk61NTQETehTsuRaZKhhfg9bX8oKMhx5UQC41tbe7ghXn/t1UgkcqwzqYKJ8ZL1ay/1jXv767UxMITkQUMEihuiq7G8wHPp6KzQ16s2S1ecXEShYLJnP/3whS/4u/98saRHiC1rvi7y/vbjz7+lRmDBSmOFUvbKlvWfBj3/7/0Fa7pN35XUEEENw6XIl6okS0t37cBr10n/bdmyrabmgKLAajAoxgQi8pTgsTmPPJCbeWkwGN62a7cQyQ3Fqz3eSbv3HCP/lnXUlwZdo66++6VmIbrJGpeeuxBRph6d+/LfI+5R/txr4MXJ2QOxUcZ5QiT5Tbl/muq6urM9ymi7L4OrbQ37gl7PFX955hg1ZXn3GkNMVqH89klkTp46a7imY4GaIGNYqg89JWLHpo0Nj/GGZ//nQ/CSKSLWfO/kgkxveGcdFpcxsoBNOiPLzJFC1JNbN5b8xjt95t0vJUgRmfvywrBLCrXptScfGO0PbmtoRhqOLC5wnZyertrKiHvM1ff84xjBFWRCOAcWO+FExWQvsyU4oC2AKTZgk6TfiKwr8oL1yRwsKU8EKGSRk3UV4mVaMkzTFDmdMRZFp6R3j2mIr/nio8Ks0ZHw5IYjKFcSRk9V+Va3O+uuf7wEqyLVccOEoNcT3LOv0aASU9mOxuNCREXP0avG57uzJzanZOSGTG8InBB6qmTNZ5HQ/77/1aKoQKranLOg5qnGg6LgdnzYHIQOsZIBVfLG0KwKFoF0MJtEQhhtJUs+LbxsdDgw82CTFEdWW/5TyHf5fY+81INb46+/8vSl3sJ3vlgNpiAzpHChkvHFReLY1QWRUOTK1iRcFVl3LWMchmBbiz+L+P/fmwuXdwrx4Sv/KnL9v48+/6ZThl0M2I6age4JQ9v2w+cB7/988OVqUuDWFu2IBlEWj8abTMS8viwfXoH+//z+oM8XyMnJM7FqVqprQm9tqtzky8z0+3OLf9wC791IxLvaivKuCvunYetoNVG2Za3f7brmnpePgA0092LgghIQyZJln+T7L/9w0dooxa0EF0lKUmMEsdRNOX+c6ro6FtVTYBfyGq2Harxe//X3zT5OgVj0HaYI00ScIUplmq2WZJ3wfnZwtcUgrQ0pjIySkNreDd9mZ/3WP3bqwShN/1pSRI/eMSEvK1BQUt0kA6IoAoD7C5OVRs2EHjt6oPay0JUz7n4B0VEKD2AGwIScFOrhf97zhzH+nOVbKuLYoRvRZjKZMcbYwf0hV8Z19846RucZvkaJHBLUWFvLvtKd1VWVleUVtVUV9dXV1RWVNVX7Kyr21dQcqKjYV1VV83NZRUoxtXLauEyJ957wcnu95j+/3+v1uj0ejx9H+BcIhHw+n9udFQgEsryBLK/P5xsT8mcGPQEJDyMeu3Vi0SSf/7/zvkG4BWZYsmzzqojfc91dj+NMouW95/6W5fLvqKiXvjdld1Voab1TdByeHA57wlP3HU3J4h4QilwHocd2rv885Pm/Hy5a2E3EwQRlxi0QOqqu3vfzz3tqa2urKvfVVFTXVFTvr6zZX1lTU7H/wP6GA7UHy6rq6o7AhzQjw6btkxRa6x2Tx+ZdmvXRp2tiiO1gCq4oWRr2XDbz1od7INzRDeu/Gx2a9MHXP8pIlQbdqcGr1JNK84FpuZFQ6KqqRj2BwKvBaMIkVKjbVn1cGPjNf75Y0i3E9jVfF2T9fx98+V0n2SSWNwEu6KnYpuL5keAlcz/7Xio31dDMuK6gtcQGqqmE4OUVe8rwquj/r7Kyqry8sr6+sZfFkGZFqA2fvvZIMJJ/3e1/N0sXeLSn5WjW6JxI9ozmzqghlJbGCp8r6w/3zWkiU9wUW8oACRZf+fmb2d7L/vXKh13k45O+JvnEysrEDYW3jXNd3dkN5aLBfo6jNY93xm2Pt5h+OPluHAUXg6xde+FKYiIljmLoVAOjJvcWLyxw/Xb2uwsQ30O2JCpaG6ZHfL7cK2o7rBA8rWJF9IIDmZAQ5Xjn0dpR7sKb73++HVO6DIXT6LXUj0s+DWVcmuWeMPuVBZB72kVRQbyPCSXacbDa6xp9+8NPIoFOsz8eLKPwQqxc+nXYP8rvy/K4s4KeQMDtDwXCHpc3HM7OynL7fIFgMOzzBzu7onJovbyEIOKftMosHxWZD1JJUpyRtiVLmMKP1F8MiILS5FZB00pLGMVeLHltpLAoM9jSGU3KOZWxxe++nePyvPbhEsBVOTTnsVvdOWNL9jVJ0Td1I48K1jn74fvDGVkZ3snLN5RjLkJgF/DBPUZs+6rP8n2/+eTbb1tolkPnzT5yNR7ND4dDPvjt2YGIL8vry/L63R6/1wff1Ru8PNOTEch+5tU35fY2SEWkaD7UYiLe88f8K6b6JjR3KQAnqYGv330rx+ubO28ZAGx0rV296PehyW99vRHKmWmG4Eg+ITcTf3LW3Z6sUV7fhB9/qpFJRVnJhL7ryT0r5xVm/e8ni5d2C7F51YJI5v989O162X8w0ExEQbtuXvd1wPu7d+bBbJY5IbIUIAOU5wf9LTviBB7aH2zHVRpBVHXDkRRk9W88e9dlWf4f9yBBimb0rtrdW9y+iVfe/Fc6E+84VOa6/Ld/euClLprOoFQ1TtHyjqaffyjy/I83c7Sv4MZOLvsGvihaQvAOkey+csKfc7JvamrvYXJm4cnugz8HXZf9+e8vSbcFPORoUsbkaRR2r/senJ12tWRYksYOY+EAYVrBd69cUJD1+48WF3eSdhdMWfvVfN+o0f9+e74sH4MjRV0zwQAvQofLnmqfUDTFmz2phYkOSBpDoYzBDh+oKcrxNdTUTB5/3djITJEQCz6YX1FeTeyEO7x5/YpwKPDhwu9lIseK9ch6AJ5KtGzauGLnjpIdO7aV7S0v2bRta8m2XTt2l5Rs3bu3bOdOHGzdtuOUviuRSyKQDqXX2vvXrmjTNF16i4gm0HSByAGGRiKA9UZJIxW9uXDSFH9eZzyOFQyGUNo7rysaX+APH+3UYBzrRzau/PQSV3hxcWlSUhfx9qQQsVXLvnrwz3/av6fKlVn02lsLmCH+8egjx7qiQJXQhBb9+OUnIxm/3129P0qTHaYau5u6vr9iX8nGn/bsKN22aeuWzVv37C7dvnVb6a7dO3bs2L5j19Zde37Ysv3n/Q0I8VixbVj3hioSyRsi06b5xrXFY5hQmK61dV8xdkJOMK+mqZPWYUQP1Zdd5sl58PF/y3pSSr0gmbn8+8X3PXBrWeWujFHeN1790DDEAw89QjOVVGs98158tiAz8+da5DmO12zPc/3+zkdfkoUQTE8R9WhSMrSSdd+EfJfPW7xCwlWTzo4cpEH79JH4oe5qwJeGgsi0F0puDr369F3uUN626mboiZQqWOzFf/5tlLtw1bZqyrXERU/91RNyfTlXHo2T161zFKikukVPy1XjgjXb17705OPu4PTaVrFtX9Vni+ermEBTgh2LNdVlZU3+412wGaVtIbT4zuLFYc+ojxet7jFLRGTpIskJ5XvT+tf38KzhajUgZUF+gmQhtaMk63euz3Nd+uATczrJsP9x1WqfN/uvf388RVUitEiFEhoMMwpPYUohHcaUROc7rz4X9rmrjkWxarSn5coi/zMvPjUm6N2ya5emph6594780RkvPfz6lOw/oJQNriPcpHfmvuX2h2qb22U9OPAD1QPu2feQOqeiCHoYTaHYp0L2XtPNLE4aLOmK9dl6tycpjF0u0DlhEaacoQhmMTVBxTLECdo8HJMrS94xZeqEDHdVbWNUiES0Z8bEST6Xu7R0L5UjKkJEO5rrXJnhfz35H9TaGuJg1c4C3+/+89ZL3pDv+PFWJapOzJ4c9hbefv8///b8iynENBGTE3ry2nFTpuROSMQxtZMfjUkRziQ5abIIUVLb5Jk9sdHw4E9SRTD4QgX6yJDTjP/nCZMmjMmoqK5CDqMjec2Eq/2e7B17KsEAQ9N5l2Cd100cNzm3MJbEE2vLK/L8gZdfe9uVnX+k42g82TatMD/HE7n9gaf//uxcojUyySLW+qcpN40NTGuHTchF8vifJhUEC648miL+GFDTiNBRJeMHb8z2u0bddu9fzUiPNDuJD9K1smYZ0PqkL4ydVLCu60zGKXFKE3rLZ+887wkEv1q2Bpu5a8k5zz7lH5Px1eLVssIHxop+5P0X/5Hpzz/QIrWg9uqsu5+6744p0/7wyr/fF1p8/df/9Xt9jzw3+zf+cE0rCgQESwr9eHnJ2tHuid/9UE2FbGCT0JNzX30uFPTUHm3B5ChTBjaMBjnvKts1IxXABPHahCsusuii/75zmSdnTGRiYcH47EBk/cbdVoCBKRwRCHN+o62MDMEVqikVQmur3ZPvGfPKm/OShug4ciDP8ztvxDvvu+8S9JRNKxYWZY6e6J/edlAGz5gwemLRpoJxE2c98UKSfvoCySvpEKNCGV2jaAX4TgXFNDtYe8xIuMpKWRux5vjkmwVT6/0EuCKsoJl1UYqiMUaIIIdZU2RlPypnYPVJRwFE0+J1dTeOmzA603v7fQ8Fvb5/z5597Di4S3FQDYvdufbK0y/mh8c3tqkJIXaVFIezfuvxZe2urMJtTMx54sVwVuj2+2eR4DKN9wierN9TlusZu2bpZnh6BkNVuoxDWuNhDMEFM/pm7mJHNKJlBjTBEZWt6cy8EyPWlYN1V+UFvX7XnffdF84IvvH8my1tKdh2+IZC4ahY6feLxo8es3VLhSrEz1t2hV3uLsfJhAAADq1JREFU0b7wlur9SfQk/upTj+b7Qjfe9SgmcbgzSWG0H95XGhgzftXyn6nWUhNq99al3wZ8Y7fsrJcVadLUr6utDrhH+0ddEvF7Rvn8lwXCS4vXyugGxRoRK5O9VRk5zNaQ+7+nL3xDZBgTGROsy0i2PDzrIXcwOPO6q1yuzD/fcsvh+kNyJQfZOJpgR7sadgb9gZde+wAVARr/w4ScfNflf/nrU7CJmNZZWxnwjskIeDdV1sAGQYc0oXf89S+3BPNmHIuDViieVbv0WPuECeMefuwxTMf4rokHSsnSF/v3O+3MOWhXqVdNrNpwlTV/QukSPJnQRHvCiMcUpurIN1HwQ6F6N6w5Ij4Yhs5gUmA7I+QnWY/QYws/+NA/uuhwfRwbEStdsWiPnGLh4nKeaO3EdzlqplNaVIjjH8x91h/Ja+3BaeoJLS1ArJOCWfAs0YCmp0w3WZKSmxssgly0hsuS0r6AlITqB1fShbrWcry5vLx82bJl27fvlAujAEzyGFGARWUyYANKKQ1zmMmkUHmiO9kdTWhJ0iOEVB3Jd2xOhTh5e3MoY/S9T8zuILM2kUj1JKjcViaTDdHVgSyxXN8E3RJL3j7p6jtv/WdCh8+voP5Ii8MrI0ghcm+lgxjXqCCIKvCkawuLHXk1emF9OcVakScTQklShS/ThJ6Mx4/H4+2Ap1nqiYwNhUYUocZENHbHlGtzcme2EfgS7V1xNaYILYYoqSZS8VhrhyxFBDENRSTbb5427fqbH5JzMawEnQlFv2HydQX+CUzFr/mhf4bKNXMlg+C0BQ/JEmYug1IDphNP6R5TBqR8psk4HUrVKlfk2uOlZSdJxroMoSRT0a7WY1Q8CiQp5IgiPoS6gJgwur585/Vct39fbRsmaSYS3e3SUZGTXUdXZ0LV5PoKPYkyxk0/rgmGAzt/boDDAoYlhdHx0Xuv+nLHHexMmRFtMoGozk3lVKXdt98nfj5nuKIDlhyD2WaUkrZ0weOxlzDukCV3VlBE9hsyjTI4oai02gPkMZDOEbHkTdNum5x7dSqhyOVmWFQnJyBSXIhOabD3dKH9vGtlwPs/u8v2JWWAlMIgwtDs5WCSSgQHaFdZ3yqXzkiGSRZSTbY9HHMyIo/fFGKLYvKjzIswXUm8+eqrVAETXvzN90haUQ0vekF00VFcSbYTDYCSg4r8ZSzMq0Q+pinyRyVVmsRIWTOhde/bWXJ5KHfJlr0yVkk4Ri+wtQoBieIrFKfjYtGb7010RVpbsAaK/iHKgbpinYuUKfXSPsZsJH0FoBzF2jA10WPZuHynyUhQSa0kBtBOCVjoB3gxqPE3R0CLOg2kDOMH27y+CS+/MU9OqYiDioQqNBRdWa4mEQaVPQvefqMoGGyNIi2H56NwF0BUj/dkZ0Reefm/iFGDnma5n0jCnNRopRxkiZZnSVJLO0qlNDzFbE8OVzzH2lwmbacOHSuCDAVmAkwbJoA0jE0my+WKH1nzIJTozdOmFYydGVXIYMIihCQTTKMaAihUyXpa5tF+rM0T8H80bx4ibzJ5omtlO4s9nku2ldfEaesvU6NSqFxDUYysRpBcOPnfc4DryRtKgy7Yb33EzWm6i75rAt1Mg5NpSySmVUssql0z5eobrr0uHu+BMUn2AlqTMKHKIS6MzdtLPP4xm7ZsMMFsdupUrDrV+ZOP5YSzWA9Ez4bIYiwqZQQhwYzNffrlyCj/waY2pJzIKpN4AL+ZygAbfIfqz+WURWksOVxgB1bSiSSSRZ3sh01bMvyhjSXbQC2ippxcMDPC60ZBD+f8/XffGxvOaa4/KCWMqCFVDYluX9KfMLJTfEijVe/XzUlK8tJkIL5v1RVRoUJt3SG3Lzz3rfdkdRf5IOCyKQH0PM7Zxx+9lxvyN9aiFMRcPWe5noKLIw2HA/7s19+Yq8Jzkp2RaxzRDEEJB+bLOrLerfNn8W49Qj7LGps9dGqZmMIUQ1GuvOK666+9NQ7I4hnyufKvNLaFEE1HW3z+8H/mvoPJjAw/XeO7tm31ucds3bYpqWGONDvc+ziYM6d9DRpcT/ukM7pBMkRhxatWHz9+3DIRsRGxrRfkQFevK65rOmxud3ZGTZ/rTSRJFO2EaQb5xAq1pDCSqfbWSaGx47MnKExEVSybkgtcJIdkzjxhr5sHe+WyQJlng8KjKi9TufXpH+e8oaFhxYoVfc5DROgl1cWSJUuSyaRt3fW/+QKcsZa5QN5isdiSJUvS90Pp0wFNUxYvXhhHAZVdWIJbaAggoK5rqVRqyZIllA87Exnu84RB+2jPj7JFUzkzsWrp6q7WbmRfNFqETByR90j0lZZV7txTlmIyMYArjLENGzYcOnTIvE1OwPLD2fwdenDFPE6WGukraduDabD+dZj3xEEqkYPSOt/8RBYR2yAINU7rqhgTqQRFFKMHqvdkhCIvvvE++kHWobk6j/qkUsJKxr6Jb1JBEThNN8FeN3VyjqWLi70XmYyQweU+V5af/GG/4KwdtLPbGGD6kOkZeadMq9hLcKUu5bz3NwrsBi/8gR1eTn80aC7ZaO/sQTFMW69iHwqEtCGW0u6jcjcwPd3/OmfeDUm4giKw9DQD60LkBmVEAOglllLgwlGUQIav0gk62MfYWxi+ifSc4WLyPVt2vvf6G6sWffLi849cljv2m427wBlNHGusL1657ON3P2w93qEL0R5PffXtimUri/FdABimHd7lRxz1GsP9uy05KnncN0BCQJWFyrJOYwB49G95cM9ISU2Xv9NNJdJ+NtMqEqvWVqDYL4BAiz5a8a/B7e8vbo3YpynkbNOxbUqAI8ReLPsjtaJSmtfe5Vw6MrZxdA5dGXpwxTYMBA97fkLNP/wfWiFtalfTaqbkxDkM+4y/Ii1YTVcRrD5Sd2TKuBl+39itJTveePrvwYzfZmZPbYwiknK8oe6he2678+ZrQ5lZixYs7Ewq4XGTLsvMycmZhMg3wq006cr6Sjy+Vy5P2hlN09IxYO/fa6tZ+1vpt9knL/yBlEKpaQd8OnxFRVHsKSbNSsAluVnU0IWrjCeRAWVPTPZYbNsHS/tp7yUZ1pI8kld/Cb+GHlyhxwyZX9GFSKhYY4R/suADu3UAuvgxDivwMKBw/MKLnKtUT8eTDVUVLlcou3B6Wwwd6qzdnZ/5uxk33NtubkGMxXFNdRW5WZlFuYXhcZM+XrS8vUfUHThGHUbcHqMw4ZpmGA/YQTlz2yt+pFhQoh8KSTpFsuZxwGbO70VVVW15la61bRz2fzDtt0O1WBY17EVtctUEyjatHbT7FiH1b+5CnenFGJnB8LCtMhs5dptH9nyKqCRpV5uJsrM2yM+h70MMrmQrQosSRG1Ayg3IbM+QqmWBYaqLOIdRn/FXZIWrykT78amF+aMj+ZtqD9LSWLV609Lx7kveff8rrDdA1oobLC7U7hmFkUBG5t+efLVNt9YhaCpWJlnGgoxtUg9kTPI0nbFFX8pHOjCkR2Rvn32ahs7bZbtLhmGcdpNh6aD27zON7gTtSsg/b50+XcO9+KQ7T2rBWhXjVElOgWV5myRIH8alN2hT7HS96Ht96MHV8u+oCJfSX1SFY2LVXMZJaDb/9B3SYH7GlID9yBa/927E7XnohVePIZHDhYh/+fa/8zIzyyrrZfEjPVQRevTNZ/4ZzsrcUt7ULURMRq41qgE4FVzJrDppn22nyNafttBIfts32Acnbed8n5SCaGub03XG9F1pXzsZgzE7qOuaHYgiFXS+Oz5Q+7a2lDfZYJMglGO0AClHhLmmz222+WM/Kb1q1T555gdDD67Ud9MAJkDK494IjX3tzEd5znciFRznsdZpBQWRYN6+Y1GsShFxI9oyJX96Xu701piCjKtZ+RkXWssjd94QzspcvrECRYK08x+WbmDrYDNU2Fe7nhqu59zrof3FAWwKeenkma0hMiiqujFLBk7dJXsggzyWiwOuJl1soJoIPjW5Bu2KJrTO5rqKsC8Uzp3UppB9y3rWfPm53zfhLw8+a1aBy/6wnuLvvyhw/TbH43ri5fejVC4HTaybW1pK257gSuy8cKMYNHIMRkMOXM+dikMOrmchw2dx67kSCCXgiZbG+ixv3q33/gMREp5qKt9d4M683Ov/ftPW0pq6b5augFGksyP1jeOzI4fKd00fl587YXo3F+99/H3Z3noyp7Hrchpc5R78ds7iXLt3UX5vOMD1zAg/wEjPrIF+dzlw7UeS9BMGHNfjjQdHZfn9eUXF69euXfbNeG9WJCvDn5f7zFtzvTlFVbWNEyeOf/mFZ0OB7G0/bRF68t7bbs50Bx5+/OW8wmtgK2NagblsR85oCWvSNO/THzcijgcQYnlpkA3IwSWqNIbPrM0BRnpmDfS7a2jDVepPy7s78ZPl1/Yb0mCeQGTYELr2xhsvXj7mt55AODen8Ght1Sdz33K7w57QuPqjrS0d3V6Py+92LVqMujmhdW9evyLkzwlnT2rvxKJSlDRRWZPMFVOdMC2fugDWwWDSYrDaGkCILwK4ysj2mdFigJGeWQP97nLg2o8k6SdkMRN+06ZdU9paO6O0958qtFR7a8Je7tIT7dCZmlDljxjEBU90t3QbmkgoCC+Zsw29UdU7VtWjTMKs+Eh/3kg4HkCIHbieRgCGMFxtZZqmXdPsyQuiXWW2FIUs+EkicxUeficOW3vhJ1/MtfYaVpLKsg2DtnfAAlsURaRoASApWXDC+gEKRS6qTivoOQ2fhtHlix2uvyYrhiJcTXqcDK72ud57zjf15COxmBQWLP3IIhbBydNYVoN1mXJfapS50k85KmRCQ69iTxxaQCaVLGlX+RslVgvnu/9Drn0HrufOkiEH13Mfyvn9pm2n0YGl8K1npmPPusG0fi1j2LzVbsf6qvPuUOCMKeDA9YxJ5dzoUODXpoAD11+bA87zHQqcMQUcuJ4xqZwbHQr82hRw4Pprc8B5vkOBM6aAA9czJpVzo0OBX5sCDlx/bQ44z3cocMYUcOB6xqRybnQo8GtT4P8HiujIybwh9t0AAAAASUVORK5CYII=)"
      ],
      "metadata": {
        "id": "1RC3ltO0aXfT"
      }
    },
    {
      "cell_type": "code",
      "source": [
        "# Sigmoid\n",
        "x = torch.tensor(0.0, requires_grad=True)\n",
        "print(\"x:\", x)\n",
        "\n",
        "y = torch.sigmoid(x)\n",
        "\n",
        "# Compute gradients\n",
        "y.backward()\n",
        "grad = x.grad\n",
        "print()\n",
        "print(\"y:\", y)\n",
        "print()\n",
        "print(\"grad:\", grad)"
      ],
      "metadata": {
        "id": "dX3GkjcEaI9p"
      },
      "execution_count": null,
      "outputs": []
    },
    {
      "cell_type": "code",
      "source": [
        "# tanh\n",
        "x = torch.tensor(0.0, requires_grad=True)\n",
        "print(\"x:\", x)\n",
        "\n",
        "y = torch.tanh(x)\n",
        "\n",
        "# Compute gradients\n",
        "y.backward()\n",
        "grad = x.grad\n",
        "print()\n",
        "print(\"y:\", y)\n",
        "print()\n",
        "print(\"grad:\", grad)"
      ],
      "metadata": {
        "id": "sng775lKb0mL"
      },
      "execution_count": null,
      "outputs": []
    },
    {
      "cell_type": "markdown",
      "source": [
        "#Loading a Dataset (e.g., MNIST) and preprocessing using Pytorch"
      ],
      "metadata": {
        "id": "XrJaulrxYwBy"
      }
    },
    {
      "cell_type": "markdown",
      "source": [
        "##### Operations of tensors"
      ],
      "metadata": {
        "id": "gwop4K0zva4m"
      }
    },
    {
      "cell_type": "code",
      "source": [
        "# Pytorch also provides convenient functions to load popular datasets.\n",
        "# In this tutorial, we'll use the MNIST dataset, a collection of handwritten digits. You can load it as follows:\n",
        "# Define data transformations (including normalization)\n",
        "import torchvision.transforms as transforms\n",
        "from torchvision.datasets import MNIST\n",
        "from torchvision.transforms import ToTensor\n",
        "\n",
        "# Load the MNIST dataset with normalization\n",
        "train_dataset = MNIST(root='./data', train=True, transform=ToTensor(), download=True)\n",
        "test_dataset = MNIST(root='./data', train=False, transform=ToTensor(), download=True)\n",
        "\n"
      ],
      "metadata": {
        "id": "1gLDcSRbYdSB"
      },
      "execution_count": null,
      "outputs": []
    },
    {
      "cell_type": "code",
      "source": [
        "import matplotlib.pyplot as plt\n",
        "i = 0\n",
        "image, label = train_dataset[i]\n",
        "print('image.shape:', image.shape)\n",
        "plt.imshow(image.permute(1, 2, 0), cmap='gray')\n",
        "print('Label:', label)"
      ],
      "metadata": {
        "id": "ZaAoVd4Gv82H"
      },
      "execution_count": null,
      "outputs": []
    },
    {
      "cell_type": "code",
      "source": [
        "# Create data loaders\n",
        "train_loader = torch.utils.data.DataLoader(dataset=train_dataset, batch_size=64, shuffle=True)\n",
        "test_loader = torch.utils.data.DataLoader(dataset=test_dataset, batch_size=64, shuffle=False)\n"
      ],
      "metadata": {
        "id": "XbDY23GOv6SN"
      },
      "execution_count": null,
      "outputs": []
    },
    {
      "cell_type": "code",
      "source": [
        "#Let's visualize a batch of data in a grid using the `make_grid` function from `torchvision`.\n",
        "#We'll also use the `.permute` method on the tensor to move the channels to the last dimension, as expected by `matplotlib`.\n",
        "from torchvision.utils import make_grid\n",
        "for images, _ in train_loader:\n",
        "    print('images.shape:', images.shape)\n",
        "    plt.figure(figsize=(16,8))\n",
        "    plt.axis('off')\n",
        "    plt.imshow(make_grid(images, nrow=16).permute((1, 2, 0)))\n",
        "    break"
      ],
      "metadata": {
        "id": "t3Ur59lIwxBR"
      },
      "execution_count": null,
      "outputs": []
    },
    {
      "cell_type": "markdown",
      "source": [
        "#Demonstrating Training"
      ],
      "metadata": {
        "id": "aDTyka1jaPnp"
      }
    },
    {
      "cell_type": "code",
      "source": [
        "def accuracy(outputs, labels):\n",
        "    true_labels = labels.argmax(axis=1)\n",
        "    predicted_labels = outputs.argmax(axis=1)\n",
        "    return torch.tensor(torch.sum(predicted_labels == true_labels).item() / len(predicted_labels))"
      ],
      "metadata": {
        "id": "bQBYTthg13xv"
      },
      "execution_count": null,
      "outputs": []
    },
    {
      "cell_type": "code",
      "source": [
        "import torch.nn as nn\n",
        "criterion = nn.CrossEntropyLoss()\n",
        "\n",
        "class MnistModel(nn.Module):\n",
        "    \"\"\"Feedfoward neural network with 2 hidden layer\"\"\"\n",
        "    def __init__(self):\n",
        "        super().__init__()\n",
        "        self.fc1 = nn.Linear(784, 128)\n",
        "        self.relu1 = nn.ReLU()\n",
        "        self.fc2 = nn.Linear(128, 64)\n",
        "        self.relu2 = nn.ReLU()\n",
        "        self.fc3 = nn.Linear(64, 10)\n",
        "        self.softmax = nn.Softmax(dim=1)\n",
        "\n",
        "    def forward(self, x):\n",
        "        # Flatten the image tensors\n",
        "        x = x.view(x.size(0), -1)  # Flatten the input\n",
        "        x = self.fc1(x)\n",
        "        x = self.relu1(x)\n",
        "        x = self.fc2(x)\n",
        "        x = self.relu2(x)\n",
        "        x = self.fc3(x)\n",
        "        x = self.softmax(x)\n",
        "        return x\n",
        "\n",
        "    def training_step(self, batch):\n",
        "        images, labels = batch\n",
        "        outputs = self(images) # Generate predictions\n",
        "        loss = criterion(outputs, labels) # Calculate loss\n",
        "        return loss\n",
        "\n",
        "    def validation_step(self, batch):\n",
        "        images, labels = batch\n",
        "        labels = torch.nn.functional.one_hot(labels, num_classes=10).float()\n",
        "        outputs = self(images)                    # Generate predictions\n",
        "        loss = criterion(outputs, labels)   # Calculate loss\n",
        "        acc = accuracy(outputs, labels)           # Calculate accuracy\n",
        "        return {'val_loss': loss, 'val_acc': acc}\n",
        "\n",
        "    def validation_epoch_end(self, outputs):\n",
        "        batch_losses = [x['val_loss'] for x in outputs]\n",
        "        epoch_loss = torch.stack(batch_losses).mean()   # Combine losses\n",
        "        batch_accs = [x['val_acc'] for x in outputs]\n",
        "        epoch_acc = torch.stack(batch_accs).mean()      # Combine accuracies\n",
        "        return {'val_loss': epoch_loss.item(), 'val_acc': epoch_acc.item()}\n",
        "\n",
        "    def epoch_end(self, epoch, result):\n",
        "        print(\"Epoch [{}], val_loss: {:.4f}, val_acc: {:.4f}\".format(epoch, result['val_loss'], result['val_acc']))"
      ],
      "metadata": {
        "id": "jMIwiQJMy-Ew"
      },
      "execution_count": null,
      "outputs": []
    },
    {
      "cell_type": "code",
      "source": [
        "def evaluate(model, val_loader):\n",
        "    \"\"\"Evaluate the model's performance on the validation set\"\"\"\n",
        "    outputs = [model.validation_step(batch) for batch in val_loader]\n",
        "    return model.validation_epoch_end(outputs)\n",
        "\n",
        "def fit(epochs, lr, model, train_loader, val_loader, opt_func=torch.optim.SGD):\n",
        "    \"\"\"Train the model using gradient descent\"\"\"\n",
        "    history = []\n",
        "    optimizer = opt_func(model.parameters(), lr)\n",
        "    for epoch in range(epochs):\n",
        "        # Training Phase\n",
        "        for batch in train_loader:\n",
        "            loss = model.training_step(batch)\n",
        "            loss.backward()\n",
        "            optimizer.step()\n",
        "            optimizer.zero_grad()\n",
        "        # Validation phase\n",
        "        result = evaluate(model, val_loader)\n",
        "        model.epoch_end(epoch, result)\n",
        "        history.append(result)\n",
        "    return history"
      ],
      "metadata": {
        "id": "knjYS8np0ACn"
      },
      "execution_count": null,
      "outputs": []
    },
    {
      "cell_type": "markdown",
      "source": [
        "#Functions for moving your data and model on device"
      ],
      "metadata": {
        "id": "bQH6_MAs6H2i"
      }
    },
    {
      "cell_type": "code",
      "source": [
        "# Check if GPU is available\n",
        "if torch.cuda.is_available():\n",
        "    print(\"GPU is available.\")\n",
        "else:\n",
        "    print(\"GPU is not available. Training on CPU.\")\n"
      ],
      "metadata": {
        "id": "6Z9eeIzhaYel"
      },
      "execution_count": null,
      "outputs": []
    },
    {
      "cell_type": "code",
      "source": [
        "def get_default_device():\n",
        "    \"\"\"Pick GPU if available, else CPU\"\"\"\n",
        "    if torch.cuda.is_available():\n",
        "        return torch.device('cuda')\n",
        "    else:\n",
        "        return torch.device('cpu')\n",
        "\n",
        "device = get_default_device()\n",
        "device"
      ],
      "metadata": {
        "id": "EbWZ0QZf0nW0"
      },
      "execution_count": null,
      "outputs": []
    },
    {
      "cell_type": "code",
      "source": [
        "def to_device(data, device):\n",
        "    \"\"\"Move tensor(s) to chosen device\"\"\"\n",
        "    if isinstance(data, (list,tuple)):\n",
        "        return [to_device(x, device) for x in data]\n",
        "    return data.to(device, non_blocking=True)\n",
        "\n",
        "class DeviceDataLoader():\n",
        "    \"\"\"Wrap a dataloader to move data to a device\"\"\"\n",
        "    def __init__(self, dl, device):\n",
        "        self.dl = dl\n",
        "        self.device = device\n",
        "\n",
        "    def __iter__(self):\n",
        "        \"\"\"Yield a batch of data after moving it to device\"\"\"\n",
        "        for b in self.dl:\n",
        "            yield to_device(b, self.device)\n",
        "\n",
        "    def __len__(self):\n",
        "        \"\"\"Number of batches\"\"\"\n",
        "        return len(self.dl)"
      ],
      "metadata": {
        "id": "ucieONCO0UWz"
      },
      "execution_count": null,
      "outputs": []
    },
    {
      "cell_type": "markdown",
      "source": [
        "#Dataloader"
      ],
      "metadata": {
        "id": "55SOsqM46nga"
      }
    },
    {
      "cell_type": "code",
      "source": [
        "train_loader = DeviceDataLoader(train_loader, device)\n",
        "test_loader = DeviceDataLoader(test_loader, device)"
      ],
      "metadata": {
        "id": "XOL-QXv00gvc"
      },
      "execution_count": null,
      "outputs": []
    },
    {
      "cell_type": "code",
      "source": [
        "# Model (on GPU)\n",
        "model = MnistModel()\n",
        "to_device(model, device)"
      ],
      "metadata": {
        "id": "htUJmHJp0P9C"
      },
      "execution_count": null,
      "outputs": []
    },
    {
      "cell_type": "code",
      "source": [
        "history = [evaluate(model, test_loader)]\n",
        "history"
      ],
      "metadata": {
        "id": "iEhOL9CT1BRq"
      },
      "execution_count": null,
      "outputs": []
    },
    {
      "cell_type": "code",
      "source": [
        "history += fit(10, 0.5, model, train_loader, test_loader)"
      ],
      "metadata": {
        "id": "fgOac3ar04JU"
      },
      "execution_count": null,
      "outputs": []
    },
    {
      "cell_type": "markdown",
      "source": [
        "#Evaluating the Model on Test Data"
      ],
      "metadata": {
        "id": "3HgNx1LYcffX"
      }
    },
    {
      "cell_type": "code",
      "source": [
        "#Once your model is trained, you need to evaluate its performance on a separate test dataset to assess its accuracy and other relevant metrics.\n",
        "#You can use the following code for evaluation\n",
        "\n",
        "correct = 0\n",
        "total = 0\n",
        "with torch.no_grad():\n",
        "    for inputs, labels in test_loader:\n",
        "        outputs = model(inputs)\n",
        "        _, predicted = torch.max(outputs, 1)\n",
        "        total += labels.size(0)\n",
        "        correct += (predicted == labels).sum().item()\n",
        "accuracy = correct / total\n",
        "\n"
      ],
      "metadata": {
        "id": "-A4CGM0McYte"
      },
      "execution_count": null,
      "outputs": []
    },
    {
      "cell_type": "code",
      "source": [
        "print(accuracy)"
      ],
      "metadata": {
        "id": "Er-5XF4Vzg4e"
      },
      "execution_count": null,
      "outputs": []
    },
    {
      "cell_type": "code",
      "source": [],
      "metadata": {
        "id": "fVVN5qLq7xdj"
      },
      "execution_count": null,
      "outputs": []
    }
  ]
}